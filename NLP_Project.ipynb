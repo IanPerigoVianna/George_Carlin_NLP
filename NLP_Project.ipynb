{
  "nbformat": 4,
  "nbformat_minor": 0,
  "metadata": {
    "colab": {
      "provenance": [],
      "authorship_tag": "ABX9TyPnrQdLBuR7skWBXd6uRorR",
      "include_colab_link": true
    },
    "kernelspec": {
      "name": "python3",
      "display_name": "Python 3"
    },
    "language_info": {
      "name": "python"
    }
  },
  "cells": [
    {
      "cell_type": "markdown",
      "metadata": {
        "id": "view-in-github",
        "colab_type": "text"
      },
      "source": [
        "<a href=\"https://colab.research.google.com/github/IanPerigoVianna/George_Carlin_NLP/blob/main/NLP_Project.ipynb\" target=\"_parent\"><img src=\"https://colab.research.google.com/assets/colab-badge.svg\" alt=\"Open In Colab\"/></a>"
      ]
    },
    {
      "cell_type": "markdown",
      "source": [
        "Projeto para estudo de NLP (Natural process language)\n",
        "\n",
        "Vou fazer um web-scrapping da transcrição de apresentações do Humorista George Carlin no período de 1978 até 2024\n",
        "\n",
        "Objetivo\n",
        "\n",
        "Compar quais palavras são mais utilizadas pelo humorista e se ouve mudança da frequencia de determinadas palavras ao longo das décadas"
      ],
      "metadata": {
        "id": "rNG6nh050ITc"
      }
    },
    {
      "cell_type": "code",
      "source": [
        "import requests\n",
        "from bs4 import BeautifulSoup\n",
        "import pickle\n",
        "import pandas as pd\n"
      ],
      "metadata": {
        "id": "AUD3lnXoPNqM"
      },
      "execution_count": 22,
      "outputs": []
    },
    {
      "cell_type": "code",
      "source": [
        "def url_to_transcript(url):\n",
        "  page = requests.get(url).text\n",
        "  soup = BeautifulSoup(page , \"lxml\")\n",
        "  text = [p.text for p in soup.find(class_=\"ast-container\").find_all('p')]\n",
        "  print (url)\n",
        "\n",
        "  return text\n",
        "\n",
        "urls = ['https://scrapsfromtheloft.com/comedy/george-carlin-1978-full-transcript/',\n",
        "        'https://scrapsfromtheloft.com/comedy/carlin-at-carnegie-transcript/',\n",
        "        'https://scrapsfromtheloft.com/comedy/george-carlin-doin-it-again-transcript/',\n",
        "        'https://scrapsfromtheloft.com/comedy/george-carlin-dumb-americans-transcript/',\n",
        "        'https://scrapsfromtheloft.com/comedy/george-carlin-politically-correct-language/']\n",
        "\n",
        "# Anos dos transcript\n",
        "\n",
        "anos = ['1978','1983','1990','2006','2024']\n"
      ],
      "metadata": {
        "id": "DnbojNNJPZBm"
      },
      "execution_count": 2,
      "outputs": []
    },
    {
      "cell_type": "code",
      "source": [
        "transcripts = [url_to_transcript(u) for u in urls]"
      ],
      "metadata": {
        "colab": {
          "base_uri": "https://localhost:8080/"
        },
        "id": "kXsTiYUXRGAM",
        "outputId": "78aaa299-ad57-4c9f-cedd-717e59d913cf"
      },
      "execution_count": 3,
      "outputs": [
        {
          "output_type": "stream",
          "name": "stdout",
          "text": [
            "https://scrapsfromtheloft.com/comedy/george-carlin-1978-full-transcript/\n",
            "https://scrapsfromtheloft.com/comedy/carlin-at-carnegie-transcript/\n",
            "https://scrapsfromtheloft.com/comedy/george-carlin-doin-it-again-transcript/\n",
            "https://scrapsfromtheloft.com/comedy/george-carlin-dumb-americans-transcript/\n",
            "https://scrapsfromtheloft.com/comedy/george-carlin-politically-correct-language/\n"
          ]
        }
      ]
    },
    {
      "cell_type": "code",
      "source": [
        "#Gerar pickle file para usar depois\n",
        "\n",
        "for i,a in enumerate(anos):\n",
        "  with open ('carlin' + a + \".txt\",'wb') as file:\n",
        "    pickle.dump(transcripts[i], file)"
      ],
      "metadata": {
        "id": "nCbKPmgGRRdk"
      },
      "execution_count": 4,
      "outputs": []
    },
    {
      "cell_type": "code",
      "source": [
        "from google.colab import drive\n",
        "drive.mount('/content/drive')"
      ],
      "metadata": {
        "id": "5SRk66lMWd55"
      },
      "execution_count": null,
      "outputs": []
    },
    {
      "cell_type": "code",
      "source": [
        "# Carregando pickle file\n",
        "\n",
        "data = {}\n",
        "\n",
        "for i, a in enumerate(anos):\n",
        "\n",
        "  with open('carlin' + a + \".txt\",'rb') as file:\n",
        "    data[a] = pickle.load(file)"
      ],
      "metadata": {
        "id": "OKYF6kvnR2Q9"
      },
      "execution_count": 5,
      "outputs": []
    },
    {
      "cell_type": "code",
      "source": [
        "#Checando o arquivo txt\n",
        "data['1978']"
      ],
      "metadata": {
        "id": "vQCZMcD_TFBz"
      },
      "execution_count": null,
      "outputs": []
    },
    {
      "cell_type": "markdown",
      "source": [
        "Vamos começar as técnicas de limpeza de texto (pré-processamento)\n",
        "\n",
        "- Passar o texto inteiro para lower case\n",
        "- remover pontuaçção\n",
        "- remover valores numéricos\n",
        "- remover espaços em branco\n",
        "- tokenizar o texto\n",
        "- remover stop words\n",
        "\n",
        "depois da tokenização\n",
        "- Lematização\n",
        "- Marcação de partes do discurso\n",
        "- bi-gramas e tri-gramas\n",
        "- Erros de digitação\n"
      ],
      "metadata": {
        "id": "xxh9bqQqTYKj"
      }
    },
    {
      "cell_type": "code",
      "source": [
        "# Gerador para listar os títulos\n",
        "list(iter(data))"
      ],
      "metadata": {
        "colab": {
          "base_uri": "https://localhost:8080/"
        },
        "id": "MZA9vLQ2wv0g",
        "outputId": "cfb44435-7a32-4fd3-bfee-aa25b0b168d4"
      },
      "execution_count": 10,
      "outputs": [
        {
          "output_type": "execute_result",
          "data": {
            "text/plain": [
              "['1978', '1983', '1990', '2006', '2024']"
            ]
          },
          "metadata": {},
          "execution_count": 10
        }
      ]
    },
    {
      "cell_type": "code",
      "source": [
        "# Inspeção\n",
        "# Nosso dicionário está assim : Key: data da apresentação , value: lista em formato de texto\n",
        "next(iter(data.values()))"
      ],
      "metadata": {
        "id": "-wOr4z_8w1LX"
      },
      "execution_count": null,
      "outputs": []
    },
    {
      "cell_type": "code",
      "source": [
        "#Função para transformar lista de texto em string\n",
        "def combine_txt(list_txt):\n",
        "  combined_txt = ''.join(list_txt)\n",
        "  return combined_txt\n"
      ],
      "metadata": {
        "id": "BapnGanByQTB"
      },
      "execution_count": 15,
      "outputs": []
    },
    {
      "cell_type": "code",
      "source": [
        "data_combined = {key:[combine_txt(value)] for (key,value) in data.items()}"
      ],
      "metadata": {
        "id": "9iKiG_0Ky055"
      },
      "execution_count": 17,
      "outputs": []
    },
    {
      "cell_type": "code",
      "source": [
        "pd.set_option('max_colwidth', 150)\n",
        "\n",
        "#Transpor a chave para o índice e a coluna do carlin recebendo\n",
        "#texto combinado do dicionário\n",
        "data= pd.DataFrame.from_dict(data_combined).transpose()\n",
        "data.columns = ['transcript']\n",
        "data = data.sort_index()\n",
        "\n",
        "data"
      ],
      "metadata": {
        "id": "6Pld1kJUz6ji"
      },
      "execution_count": null,
      "outputs": []
    },
    {
      "cell_type": "code",
      "source": [
        "data['transcript']['1978']"
      ],
      "metadata": {
        "id": "630wlOHO3aUD"
      },
      "execution_count": null,
      "outputs": []
    },
    {
      "cell_type": "code",
      "source": [
        "import re\n",
        "import string\n",
        "\n",
        "'''primeira limpeza:\n",
        "- converter para lowercase\n",
        "- remover pontuações\n",
        "- remover texto entre parênteses\n",
        "- remover palavras com números\n",
        "'''\n",
        "def clean_1(text):\n",
        "  text = text.lower()\n",
        "  text = re.sub('[.*?]', '', text)\n",
        "  text= re.sub('[%s]'% re.escape(string.punctuation),'',text)\n",
        "  text = re.sub('\\w*\\d\\w*', '', text)\n",
        "\n",
        "  return text\n",
        "\n",
        "first_clean = lambda x: clean_1(x)"
      ],
      "metadata": {
        "id": "IfTGDIFw0Nlv"
      },
      "execution_count": 45,
      "outputs": []
    },
    {
      "cell_type": "code",
      "source": [
        "data_clean = pd.DataFrame(data.transcript.apply(first_clean))"
      ],
      "metadata": {
        "id": "AiH4TQho6hai"
      },
      "execution_count": 46,
      "outputs": []
    },
    {
      "cell_type": "code",
      "source": [
        "data_clean"
      ],
      "metadata": {
        "colab": {
          "base_uri": "https://localhost:8080/",
          "height": 258
        },
        "id": "XNleVSwf6sfo",
        "outputId": "4fee56e9-c7ab-4233-df8e-c460f5ba249d"
      },
      "execution_count": 47,
      "outputs": [
        {
          "output_type": "execute_result",
          "data": {
            "text/plain": [
              "                                                                                                                                                 transcript\n",
              "1978   sometimes listed as on location george carlin at phoenixperformed at the celebrity star theater in phoenix on july   this is george carlin and i ...\n",
              "1983  recorded at carnegie hall new york city in  released in ’s heard the old joke how do you get to carnegie hall practice man practice well like most...\n",
              "1990  recorded on january –  state theatre new brunswick new jerseyso you want to talk about it oh yeah it all started in  i mean that’s when i started ...\n",
              "2006  from life is worth losing\\nrecorded on november   beacon theater new york city new york“it’s called the american dream because you have to be asle...\n",
              "2024  i know i’m a little late with this but i’d like to get a few licks on this totally bogus topic before it completely disappears from everyone’s con..."
            ],
            "text/html": [
              "\n",
              "  <div id=\"df-318a23de-fd19-406f-a1ba-2e4f84f52d8b\" class=\"colab-df-container\">\n",
              "    <div>\n",
              "<style scoped>\n",
              "    .dataframe tbody tr th:only-of-type {\n",
              "        vertical-align: middle;\n",
              "    }\n",
              "\n",
              "    .dataframe tbody tr th {\n",
              "        vertical-align: top;\n",
              "    }\n",
              "\n",
              "    .dataframe thead th {\n",
              "        text-align: right;\n",
              "    }\n",
              "</style>\n",
              "<table border=\"1\" class=\"dataframe\">\n",
              "  <thead>\n",
              "    <tr style=\"text-align: right;\">\n",
              "      <th></th>\n",
              "      <th>transcript</th>\n",
              "    </tr>\n",
              "  </thead>\n",
              "  <tbody>\n",
              "    <tr>\n",
              "      <th>1978</th>\n",
              "      <td>sometimes listed as on location george carlin at phoenixperformed at the celebrity star theater in phoenix on july   this is george carlin and i ...</td>\n",
              "    </tr>\n",
              "    <tr>\n",
              "      <th>1983</th>\n",
              "      <td>recorded at carnegie hall new york city in  released in ’s heard the old joke how do you get to carnegie hall practice man practice well like most...</td>\n",
              "    </tr>\n",
              "    <tr>\n",
              "      <th>1990</th>\n",
              "      <td>recorded on january –  state theatre new brunswick new jerseyso you want to talk about it oh yeah it all started in  i mean that’s when i started ...</td>\n",
              "    </tr>\n",
              "    <tr>\n",
              "      <th>2006</th>\n",
              "      <td>from life is worth losing\\nrecorded on november   beacon theater new york city new york“it’s called the american dream because you have to be asle...</td>\n",
              "    </tr>\n",
              "    <tr>\n",
              "      <th>2024</th>\n",
              "      <td>i know i’m a little late with this but i’d like to get a few licks on this totally bogus topic before it completely disappears from everyone’s con...</td>\n",
              "    </tr>\n",
              "  </tbody>\n",
              "</table>\n",
              "</div>\n",
              "    <div class=\"colab-df-buttons\">\n",
              "\n",
              "  <div class=\"colab-df-container\">\n",
              "    <button class=\"colab-df-convert\" onclick=\"convertToInteractive('df-318a23de-fd19-406f-a1ba-2e4f84f52d8b')\"\n",
              "            title=\"Convert this dataframe to an interactive table.\"\n",
              "            style=\"display:none;\">\n",
              "\n",
              "  <svg xmlns=\"http://www.w3.org/2000/svg\" height=\"24px\" viewBox=\"0 -960 960 960\">\n",
              "    <path d=\"M120-120v-720h720v720H120Zm60-500h600v-160H180v160Zm220 220h160v-160H400v160Zm0 220h160v-160H400v160ZM180-400h160v-160H180v160Zm440 0h160v-160H620v160ZM180-180h160v-160H180v160Zm440 0h160v-160H620v160Z\"/>\n",
              "  </svg>\n",
              "    </button>\n",
              "\n",
              "  <style>\n",
              "    .colab-df-container {\n",
              "      display:flex;\n",
              "      gap: 12px;\n",
              "    }\n",
              "\n",
              "    .colab-df-convert {\n",
              "      background-color: #E8F0FE;\n",
              "      border: none;\n",
              "      border-radius: 50%;\n",
              "      cursor: pointer;\n",
              "      display: none;\n",
              "      fill: #1967D2;\n",
              "      height: 32px;\n",
              "      padding: 0 0 0 0;\n",
              "      width: 32px;\n",
              "    }\n",
              "\n",
              "    .colab-df-convert:hover {\n",
              "      background-color: #E2EBFA;\n",
              "      box-shadow: 0px 1px 2px rgba(60, 64, 67, 0.3), 0px 1px 3px 1px rgba(60, 64, 67, 0.15);\n",
              "      fill: #174EA6;\n",
              "    }\n",
              "\n",
              "    .colab-df-buttons div {\n",
              "      margin-bottom: 4px;\n",
              "    }\n",
              "\n",
              "    [theme=dark] .colab-df-convert {\n",
              "      background-color: #3B4455;\n",
              "      fill: #D2E3FC;\n",
              "    }\n",
              "\n",
              "    [theme=dark] .colab-df-convert:hover {\n",
              "      background-color: #434B5C;\n",
              "      box-shadow: 0px 1px 3px 1px rgba(0, 0, 0, 0.15);\n",
              "      filter: drop-shadow(0px 1px 2px rgba(0, 0, 0, 0.3));\n",
              "      fill: #FFFFFF;\n",
              "    }\n",
              "  </style>\n",
              "\n",
              "    <script>\n",
              "      const buttonEl =\n",
              "        document.querySelector('#df-318a23de-fd19-406f-a1ba-2e4f84f52d8b button.colab-df-convert');\n",
              "      buttonEl.style.display =\n",
              "        google.colab.kernel.accessAllowed ? 'block' : 'none';\n",
              "\n",
              "      async function convertToInteractive(key) {\n",
              "        const element = document.querySelector('#df-318a23de-fd19-406f-a1ba-2e4f84f52d8b');\n",
              "        const dataTable =\n",
              "          await google.colab.kernel.invokeFunction('convertToInteractive',\n",
              "                                                    [key], {});\n",
              "        if (!dataTable) return;\n",
              "\n",
              "        const docLinkHtml = 'Like what you see? Visit the ' +\n",
              "          '<a target=\"_blank\" href=https://colab.research.google.com/notebooks/data_table.ipynb>data table notebook</a>'\n",
              "          + ' to learn more about interactive tables.';\n",
              "        element.innerHTML = '';\n",
              "        dataTable['output_type'] = 'display_data';\n",
              "        await google.colab.output.renderOutput(dataTable, element);\n",
              "        const docLink = document.createElement('div');\n",
              "        docLink.innerHTML = docLinkHtml;\n",
              "        element.appendChild(docLink);\n",
              "      }\n",
              "    </script>\n",
              "  </div>\n",
              "\n",
              "\n",
              "<div id=\"df-f44b7299-ec8e-472c-909c-d5b27290fc66\">\n",
              "  <button class=\"colab-df-quickchart\" onclick=\"quickchart('df-f44b7299-ec8e-472c-909c-d5b27290fc66')\"\n",
              "            title=\"Suggest charts\"\n",
              "            style=\"display:none;\">\n",
              "\n",
              "<svg xmlns=\"http://www.w3.org/2000/svg\" height=\"24px\"viewBox=\"0 0 24 24\"\n",
              "     width=\"24px\">\n",
              "    <g>\n",
              "        <path d=\"M19 3H5c-1.1 0-2 .9-2 2v14c0 1.1.9 2 2 2h14c1.1 0 2-.9 2-2V5c0-1.1-.9-2-2-2zM9 17H7v-7h2v7zm4 0h-2V7h2v10zm4 0h-2v-4h2v4z\"/>\n",
              "    </g>\n",
              "</svg>\n",
              "  </button>\n",
              "\n",
              "<style>\n",
              "  .colab-df-quickchart {\n",
              "      --bg-color: #E8F0FE;\n",
              "      --fill-color: #1967D2;\n",
              "      --hover-bg-color: #E2EBFA;\n",
              "      --hover-fill-color: #174EA6;\n",
              "      --disabled-fill-color: #AAA;\n",
              "      --disabled-bg-color: #DDD;\n",
              "  }\n",
              "\n",
              "  [theme=dark] .colab-df-quickchart {\n",
              "      --bg-color: #3B4455;\n",
              "      --fill-color: #D2E3FC;\n",
              "      --hover-bg-color: #434B5C;\n",
              "      --hover-fill-color: #FFFFFF;\n",
              "      --disabled-bg-color: #3B4455;\n",
              "      --disabled-fill-color: #666;\n",
              "  }\n",
              "\n",
              "  .colab-df-quickchart {\n",
              "    background-color: var(--bg-color);\n",
              "    border: none;\n",
              "    border-radius: 50%;\n",
              "    cursor: pointer;\n",
              "    display: none;\n",
              "    fill: var(--fill-color);\n",
              "    height: 32px;\n",
              "    padding: 0;\n",
              "    width: 32px;\n",
              "  }\n",
              "\n",
              "  .colab-df-quickchart:hover {\n",
              "    background-color: var(--hover-bg-color);\n",
              "    box-shadow: 0 1px 2px rgba(60, 64, 67, 0.3), 0 1px 3px 1px rgba(60, 64, 67, 0.15);\n",
              "    fill: var(--button-hover-fill-color);\n",
              "  }\n",
              "\n",
              "  .colab-df-quickchart-complete:disabled,\n",
              "  .colab-df-quickchart-complete:disabled:hover {\n",
              "    background-color: var(--disabled-bg-color);\n",
              "    fill: var(--disabled-fill-color);\n",
              "    box-shadow: none;\n",
              "  }\n",
              "\n",
              "  .colab-df-spinner {\n",
              "    border: 2px solid var(--fill-color);\n",
              "    border-color: transparent;\n",
              "    border-bottom-color: var(--fill-color);\n",
              "    animation:\n",
              "      spin 1s steps(1) infinite;\n",
              "  }\n",
              "\n",
              "  @keyframes spin {\n",
              "    0% {\n",
              "      border-color: transparent;\n",
              "      border-bottom-color: var(--fill-color);\n",
              "      border-left-color: var(--fill-color);\n",
              "    }\n",
              "    20% {\n",
              "      border-color: transparent;\n",
              "      border-left-color: var(--fill-color);\n",
              "      border-top-color: var(--fill-color);\n",
              "    }\n",
              "    30% {\n",
              "      border-color: transparent;\n",
              "      border-left-color: var(--fill-color);\n",
              "      border-top-color: var(--fill-color);\n",
              "      border-right-color: var(--fill-color);\n",
              "    }\n",
              "    40% {\n",
              "      border-color: transparent;\n",
              "      border-right-color: var(--fill-color);\n",
              "      border-top-color: var(--fill-color);\n",
              "    }\n",
              "    60% {\n",
              "      border-color: transparent;\n",
              "      border-right-color: var(--fill-color);\n",
              "    }\n",
              "    80% {\n",
              "      border-color: transparent;\n",
              "      border-right-color: var(--fill-color);\n",
              "      border-bottom-color: var(--fill-color);\n",
              "    }\n",
              "    90% {\n",
              "      border-color: transparent;\n",
              "      border-bottom-color: var(--fill-color);\n",
              "    }\n",
              "  }\n",
              "</style>\n",
              "\n",
              "  <script>\n",
              "    async function quickchart(key) {\n",
              "      const quickchartButtonEl =\n",
              "        document.querySelector('#' + key + ' button');\n",
              "      quickchartButtonEl.disabled = true;  // To prevent multiple clicks.\n",
              "      quickchartButtonEl.classList.add('colab-df-spinner');\n",
              "      try {\n",
              "        const charts = await google.colab.kernel.invokeFunction(\n",
              "            'suggestCharts', [key], {});\n",
              "      } catch (error) {\n",
              "        console.error('Error during call to suggestCharts:', error);\n",
              "      }\n",
              "      quickchartButtonEl.classList.remove('colab-df-spinner');\n",
              "      quickchartButtonEl.classList.add('colab-df-quickchart-complete');\n",
              "    }\n",
              "    (() => {\n",
              "      let quickchartButtonEl =\n",
              "        document.querySelector('#df-f44b7299-ec8e-472c-909c-d5b27290fc66 button');\n",
              "      quickchartButtonEl.style.display =\n",
              "        google.colab.kernel.accessAllowed ? 'block' : 'none';\n",
              "    })();\n",
              "  </script>\n",
              "</div>\n",
              "\n",
              "  <div id=\"id_6c6f2b85-2da0-44d6-aaaf-197abf430410\">\n",
              "    <style>\n",
              "      .colab-df-generate {\n",
              "        background-color: #E8F0FE;\n",
              "        border: none;\n",
              "        border-radius: 50%;\n",
              "        cursor: pointer;\n",
              "        display: none;\n",
              "        fill: #1967D2;\n",
              "        height: 32px;\n",
              "        padding: 0 0 0 0;\n",
              "        width: 32px;\n",
              "      }\n",
              "\n",
              "      .colab-df-generate:hover {\n",
              "        background-color: #E2EBFA;\n",
              "        box-shadow: 0px 1px 2px rgba(60, 64, 67, 0.3), 0px 1px 3px 1px rgba(60, 64, 67, 0.15);\n",
              "        fill: #174EA6;\n",
              "      }\n",
              "\n",
              "      [theme=dark] .colab-df-generate {\n",
              "        background-color: #3B4455;\n",
              "        fill: #D2E3FC;\n",
              "      }\n",
              "\n",
              "      [theme=dark] .colab-df-generate:hover {\n",
              "        background-color: #434B5C;\n",
              "        box-shadow: 0px 1px 3px 1px rgba(0, 0, 0, 0.15);\n",
              "        filter: drop-shadow(0px 1px 2px rgba(0, 0, 0, 0.3));\n",
              "        fill: #FFFFFF;\n",
              "      }\n",
              "    </style>\n",
              "    <button class=\"colab-df-generate\" onclick=\"generateWithVariable('data_clean')\"\n",
              "            title=\"Generate code using this dataframe.\"\n",
              "            style=\"display:none;\">\n",
              "\n",
              "  <svg xmlns=\"http://www.w3.org/2000/svg\" height=\"24px\"viewBox=\"0 0 24 24\"\n",
              "       width=\"24px\">\n",
              "    <path d=\"M7,19H8.4L18.45,9,17,7.55,7,17.6ZM5,21V16.75L18.45,3.32a2,2,0,0,1,2.83,0l1.4,1.43a1.91,1.91,0,0,1,.58,1.4,1.91,1.91,0,0,1-.58,1.4L9.25,21ZM18.45,9,17,7.55Zm-12,3A5.31,5.31,0,0,0,4.9,8.1,5.31,5.31,0,0,0,1,6.5,5.31,5.31,0,0,0,4.9,4.9,5.31,5.31,0,0,0,6.5,1,5.31,5.31,0,0,0,8.1,4.9,5.31,5.31,0,0,0,12,6.5,5.46,5.46,0,0,0,6.5,12Z\"/>\n",
              "  </svg>\n",
              "    </button>\n",
              "    <script>\n",
              "      (() => {\n",
              "      const buttonEl =\n",
              "        document.querySelector('#id_6c6f2b85-2da0-44d6-aaaf-197abf430410 button.colab-df-generate');\n",
              "      buttonEl.style.display =\n",
              "        google.colab.kernel.accessAllowed ? 'block' : 'none';\n",
              "\n",
              "      buttonEl.onclick = () => {\n",
              "        google.colab.notebook.generateWithVariable('data_clean');\n",
              "      }\n",
              "      })();\n",
              "    </script>\n",
              "  </div>\n",
              "\n",
              "    </div>\n",
              "  </div>\n"
            ],
            "application/vnd.google.colaboratory.intrinsic+json": {
              "type": "dataframe",
              "variable_name": "data_clean",
              "summary": "{\n  \"name\": \"data_clean\",\n  \"rows\": 5,\n  \"fields\": [\n    {\n      \"column\": \"transcript\",\n      \"properties\": {\n        \"dtype\": \"string\",\n        \"num_unique_values\": 5,\n        \"samples\": [\n          \"recorded at\\u00a0carnegie hall\\u00a0new york city\\u00a0in  released in \\u2019s heard the old joke how do you get to carnegie hall practice man practice well like most people i did all my practicing at home in my own neighborhood i grew up on the upper west side of new york city general grant was one of my neighbors i had a lot of fun in my neighborhood i did a lot of practicing and sooner or later i just wanted to get downtown to show them what i could do and i had to find out how to get there in new york city if you don\\u2019t know how to get somewhere all you gotta do is ask somebody they\\u2019ll tell ya even if they don\\u2019t know hey tell me something you got a second uhhuh how do you get to carnegie hall i don\\u2019t know i gonna really tell you i don\\u2019t know how to get to carnegie hall yeah you from around here uh yeah i live right there man i don\\u2019t even know where i am now how the hell could i tell you how to get to carnegie hall how do you get to carnegie hall from here well no from the moon take the bus up on the corner there down to  street get off there that\\u2019s a block walk can\\u2019t i take the subway here got a gun permit take the plane take the plane the  street plane well that depends on which way you wanna go well all i can say you can take a car down there take the bus it\\u2019ll leave you right in front of there okay i don\\u2019t know the number but i get there jump on a cab tell the man to take you downtown you ain\\u2019t got no bread just jump out how do you get to carnegie hall yeah well if you don\\u2019t have a car you use subway and then if you don\\u2019t have money you hop the turnstile you hop\\u2026 hop the turnstile then if you\\u2019re for real you go to court as you can see not everybody agrees on how to get there now when i was a kid if you wanted to get somewhere you had to take whatever ride was available i believe my ride has just arrived we want george we want george we want george\\u2026 hi there how are you hello there how you doing good evening everybody hello there thank you thanks a lothave you noticed that most of the women who are against abortion are women that you wouldn\\u2019t want to fuck in the first placethank you very much ladies and gentlemen good evening my name is george carlin and i am a professional comedian as opposed to the kind you run into at work all day long it\\u2019s nice being a comedian there are uh certain advantages naturally and a few disadvantages there are some drawbacks to being a comedian no one on death row has ever said \\u201cbefore i die i wanna talk to a comedian\\u201d you ever hear anyone at the scene of an accident say \\u201cquick call a comedian for god sakes\\u201d but it would be kind of fun at an accident to push your way through the crowd and say \\u201cmay i be of help i\\u2019m a professional comedian\\u201d and sooner or later at least once in your life when the policeman says to you \\u201cwhat are you a comedian\\u201d you\\u2019ve gotta look him right in the eye and say actually yes even criminals have no respect for comedians what do they say first thing they do when they hold you up \\u201cdon\\u2019t try anything funny first one makes a funny move gets it\\u201d whenever they\\u2019re not looking i go well that\\u2019s my job thinking up goofy shit thinking up goofy shit coming around every now and then letting you know what it is or reminding you of things you already know but forgot to laugh at the first time they happened we all have things like that you hear it during the day and then you don\\u2019t remember it at all for instance i\\u2019ve noticed they have disposable douche and i\\u2019m wondering who would want to keep it in the first placei do have a lot some not a lot but i have some notes over here and uh the reason for that is i haven\\u2019t been doing this lately i want to make sure i know and remember everything tonight i\\u2019ve been taking a little time off six months i think i took uh three of them uh quite voluntarily and the other three quite against my will i had a heart attack or as they say in boston i had a heart attack he had a heart attack you hear about george he had a goddamn myocardial infarction i had a heart attack fortunately my pharmacist my cardiologist and my doctor give me cpr but i would like to bring you up to date uh on the comedian\\u2019s health sweepstakes as it stands right now i lead richard prior in heart attacks two to one i am ahead i am ahead that\\u2019s right now however richard still leads me one to nothing on burning yourself up well the way it happened was first richard had a heart attack then i had a heart attack then richard burned himself up then i said fuck that i\\u2019m gonna have another heart attacki had an interesting morning got into an argument\\u2026 got into an argument with my rice krispies i distinctly heard \\u201csnap crackle fuck him\\u201d i don\\u2019t know which one of them said it i was reaching for the artificial sweetener and was not looking directly into the bowl but i told them i said well you can all just sit right there in the milk far as i\\u2019m concerned you can sit in the milk until i find out which one of you said that a little mass punishment for my breakfast food the idea is to turn them against one another just sit in the milk far as i\\u2019m concerned silly me big punishment that\\u2019s what they do anyway sit in the milk that\\u2019s their job that\\u2019s rice krispies\\u2019 job sitting in the milk you\\u2019ve seen them haven\\u2019t you floating along little beige blisters of air riding proudly in the milk but you can\\u2019t sink them they float for a long time and you know why they stay together they gather together in little groups little groups of eight ten twelve sometimes fourteen but always an even number if you\\u2019ve noticed it\\u2019s the polarity of the krispies that attracts them they form little colonies of rice krispies but you can\\u2019t sink them you try to sink them with a spoon they come up over the sides you can\\u2019t sink them that\\u2019s what the fruit is for sinking the rice krispies good size peach will take down  or  of them if i\\u2019m really pissed i\\u2019ll drop a watermelon on thembut i say interesting about my morning \\u2019cause it was it\\u2019s not\\u2026 i don\\u2019t have a nice day anymore i don\\u2019t bother much with that i think i\\u2019m beyond that now i think i\\u2019ve outgrown the nice day i think i\\u2019ve had my share why should i be hogging all the really nice ones let somebody else have a few of course everybody still wants me to have one everybody wants me to have a nice day have a nice day yeah yeah yeah wanna give me my fucking change please i\\u2019m triple parked some of them are really insistent i said have a nice day all right all right goddammit all right i\\u2019ll give it a shot that\\u2019s the trouble with have a nice day it puts all the pressure on you now you\\u2019ve gotta go out and somehow manage to have a good time all because of some looselipped cashier have a nice day maybe i don\\u2019t feel like having a nice day maybe just maybe i\\u2019ve had  nice days in a row and i\\u2019m ready by god for a crappy day i never hear that let them wish one of them hey have a crappy day thank you and to your wonderful family as well a crappy day hey that would be easy it\\u2019s no trouble at all a crappy day just get up there\\u2019s no planning involved for a crappy dayi know what it is that bothers me about that whole thing it\\u2019s the word nice it\\u2019s just a weak word it doesn\\u2019t have a lot of character you know nice isn\\u2019t he nice oh he is so nice and she\\u2019s nice too isn\\u2019t that nice how nice they are i don\\u2019t care for that you know that\\u2019s like fine there\\u2019s another word how are you fine bullshit nobody\\u2019s fine hair is fine how\\u2019s your hair fine that makes a lot more sense to me some guys are great did you ever meet those guys great isn\\u2019t this great goddamn this is great look they\\u2019re kill that guy isn\\u2019t that great that\\u2019s great no not me i\\u2019m not nice i\\u2019m not fine i\\u2019m not great people ask me how i am i say i\\u2019m fairly decent i don\\u2019t give them any superlatives nothing to gossip about relatively okay sometimes i\\u2019ll say i\\u2019m moderately neato if i\\u2019m in a particularly jaunty mood i\\u2019ll say i\\u2019m not unwell thank you that pisses them off because they have to figure that one out for themselvesso\\u2026 it reminds me of something my first grade teacher used to say to me a little lady she used to say you show me a tropical fruit and i\\u2019ll show you a cocksucker from guatemala no that that was someone else that was someone else i think it was someone i met in the army always confuse them i don\\u2019t know what it isever been looking through the refrigerator and come across an empty plate well that starts me to wondering i think did something eat something else maybe the olives ate the peas maybe that chicken isn\\u2019t really dead and he\\u2019s grazing on my stuff actually i picture a little mouse with gloves and a parka on you know just\\u2026 just waiting for the lights to go out so he can get back to work i guess the worst thing that can happen cleaning out or looking through the refrigerator is to come across\\u2026 something\\u2026 that you cannot identify\\u2026 at all you literally do not know what it is it could be meat it could be cake usually at a time like that i\\u2019ll bluff honey is this good well what is it i don\\u2019t know i\\u2019ve never seen anything like it it looks like meatcake well smell it actually it has no smell whatsoever it\\u2019s good put it back somebody is saving it it\\u2019ll turn up in something that\\u2019s what frightens mei was what they called a fussy eater he\\u2019s fussy he\\u2019s a fussy eater fussy eater is a euphemism for big pain in the ass i mean if i didn\\u2019t like something i told them i didn\\u2019t play with my food pick at my food i said i don\\u2019t like that you make this i don\\u2019t like it why they wanted reasons well you don\\u2019t always have a reason i don\\u2019t know i know i don\\u2019t like it and i know that if i ate it i would like it even less you like it you eat it then they would try to corner me with logic how do you know you don\\u2019t like it if you\\u2019ve never even tried it came to me in a dream big pain in the asssome things i didn\\u2019t like just because of the sound of the foods to this day i can still not eat\\u2026 yogurt yogurt it sounds like it\\u2019s coming up again yogurt yogurt i can\\u2019t eat anything with a y and a g in it something else that doesn\\u2019t sound so good squash you want some squash shit no sounds like somebody sat on my dinner succotash want some succotash what did you call me you fuck look out hey look out come on hey hey fucking cool out hey it\\u2019s fucking lima beans and corn cool out cool out wheat germ no get off my plate even something like eggplant well which one is it anyway tell it to make up its mind and then come on back terrible sounding food head cheese i can\\u2019t even look at the sign i\\u2019ll be down near the baloney you look at it between head cheese and blood tongue i may never eat again it certainly won\\u2019t be at the delithen there are some foods that sound too humorous to eat did you ever hear of something too funny to eat guacamole that sounds like something you wear to a dance may i borrow your green guacamole garbanzo hey want some garbanzos it sounds like a circus act ladies and gentlemen the garbanzos and the funniest food of all time kumquats i don\\u2019t even bring them home anymore they just go to wastesome things don\\u2019t look right i don\\u2019t like that ma don\\u2019t look right to me did you make that is there a picture of it in the cookbook i\\u2019ll bet it don\\u2019t look like that let\\u2019s face it be honest some things don\\u2019t look right of course some people eat anything i know that some guys will eat anything i saw those guys in the army on the chow line what\\u2019s this never mind give me a whole lot of it that\\u2019s rat\\u2019s asshole don well it certainly makes a hell of a fondue don\\u2019t look right i don\\u2019t eat anything i don\\u2019t recognize immediately if i have to ask questions fuck it i pass you know tomatoes don\\u2019t look right either on the outside they\\u2019re fine tomatoes look lovely on the outside but you look inside a tomato and something is wrong something has gone afoul inside of a tomato it doesn\\u2019t look right you know it doesn\\u2019t look like it\\u2019s finished yet for one thing it looks like it\\u2019s in the larval stage or something there\\u2019s thousands of seeds and a whole bunch of jelly looking stuff get it off my plate it\\u2019s gushy it\\u2019s like that stuff at the end of an egg and i know it\\u2019s not the end of an egg it\\u2019s the beginning of a chicken it\\u2019s hen cum get it off my plate it don\\u2019t look right something else that doesn\\u2019t look like food lobsters and crabs i mean anything coming at me walking sideways with big pincers somehow doesn\\u2019t make me hungry in fact my instinct is step on that fuck look at the big bug step on the big bug before he gets to the children they look like they mean business can\\u2019t order frogs legs in a restaurant i keep wondering what did they do with the rest of the frog what do they do with it they give them little dollies and send them back out into the world to beg try try to return them to a normal life if you can the trouble is the dollies for froggies program has been cut in half we\\u2019ve probably seen the last froggie dolly for a long long time i\\u2019d rather eat a box of cookies doesn\\u2019t that always come in handy just eat a goddamn box of cookies you ever do that a whole box of cookies right in a row i don\\u2019t mean you take them out i mean eat them in the kitchen standing right in the kitchen eat a whole goddamn box of cookies just stare at the electric clock while you\\u2019re eating those cookies did you ever notice right on the cookies it says open here well what the fuck do they think you\\u2019re gonna do move to hong kong to open up their cookies of course you\\u2019re going to open them here you\\u2019re going to eat them here you almost have to open them here thank god it doesn\\u2019t say open somewhere else shit i\\u2019d be up all night trying to find a good locationgot a little news for you let\\u2019s uh let\\u2019s take a look at the news tonight see what\\u2019s going on yeah ladies and gentlemen here is some of the news the us army announced today that it was true that during the first part of the \\u2019s they had performed lsd tests on human beings which destroyed their minds however they have claimed that none of the victims has been promoted beyond the rank of lieutenant colonela man who was attempting to walk around the world drowned todaytwentysix people were killed today when two funeral processions crashed into one another police say the casualty list does not include the two men who were already deadanother first for county hospital as a woman has checked in to have her tits reversed when asked why she was having it done she said that her left tit was her favorite and she wants it on her right side where her lefthanded husband can reach it easilythe aspca announced today that they have filed a criminal complaint against a man who was keeping tropical fish in a moving blender the man says it is true but that he never turns the blender above mix the aspca claims he\\u2019s had it up to whip and puree several timesa passenger shot six people on the downtown bus today then asked for a transfer and shot six people on the crosstown bus in order to prevent this happening in the future authorities are discontinuing the transfer systemhere are the results of the blind person\\u2019s golf tournament they\\u2019ve just come in the winner was johnny downing with  strokes just enough to beat larry powell who lost any chance he might have had when he took a  on the final holea  woman who was trotting backwards from winnipeg to rio was killed today when she was hit by a truck head on from the reara small town in tennessee just downwind from a nuclear plant believes it may have received some radiation everyone is dead and the trees are hummingalthough the internal revenue service has begun to crack down on businessmen for the threemartini lunch they will not bother the working man and the twojoint coffee breaka man who was attempting to circle the world in a hot air balloon died today when he stepped out of the balloon to admire it from a distancea spokesman for the reagan administration has said that many dead people are really only sick and trying to collect illegal death benefitson the lighter side of the news a couple who was celebrating their  wedding anniversary died of shock today at the beginning of a surprise partywell to kind of wind up the news tonight and there\\u2019s so often so much death and tragedy a man in texas was arrested today for shooting and killing his wife son two daughters his mother and father all four of his grandparents his dog his mailman three neighbors and a woman who works at the filling station he claims he was just cleaning his gun when it suddenly went off thank you thank you very muchhave you noticed that you never seem to get laid on thanksgiving i think it\\u2019s because all the coats are on the beddid you realize that the mexican hat dance was written by two individuals a lot of folks don\\u2019t know that the first guy wrote da da da da and the second guy wrote da la la la da da da if it weren\\u2019t for the second guy the mexican hat dance would have gone da da da da da da da da da da da da da da da da da da da da da da da da da da da da da da they were so happy with what they discovered that they went out to celebrate and they met another guy and he went da da da la la la la la la la la da da da la la la la la la la la da da da la la la la la la la la da da da la la la la la la la la \\u2026it takes two this is the musical portion of our show you know what bothers me hey you know what\\u2026 is that me yes it is you know what bothers me i could never find out the rest of the words to ta ra ra boom de ay everybody knows ta ra ra boom de ay hmmmm hmmmm i did find them out someone sent them to me ta ra ra boom de ay did you get yours today i got mine yesterday that\\u2019s why i walk this way you know how you can tell when a moth farts he flies in a straight linedo you realize that somewhere in the world is the worst doctor has to be process of elimination sooner or later you\\u2019re gonna find the worst doctor and the weird part is that\\u2026 someone has an appointment to see him tomorrowyeah i know youse are trying to butter me up don\\u2019t give me that shit yes in goddamn deed i love that dog i\\u2019ve never seen him and i love him he\\u2019s gonna be wonderful when i meet that dog hey you want a dog you want a goddamn dog go ahead man you can have a dog i got three of them man you want a fucking dog you have it man it\\u2019s yours lots of people got lots of goddamn doggies and you don\\u2019t even have to have one to learn about doggies your friend might have a dog it could be your friend\\u2019s dog he makes you\\u2026 that makes him your dog friend you go to visit your friend and his dog is there and you pet him hi hello how are you sneezie you\\u2019re wonderful hello goddamn i mean for that moment he\\u2019s your dog so you can have someone else\\u2019s dog for a while hi he likes he likes me i think oh my god look at this doggie here goddamn doggies there\\u2019s lots of things to know about him too lots of things you learn you don\\u2019t know where always and you can\\u2019t remember for instance can you remember the first time you found out that by scratching a dog here you could make this leg go like that and that you could make it stop when you stop goddamn i\\u2019m in complete control of this dog or that you can make their head tilt from across the room just by making a funny noise you go\\u2026 and he goes oh look honey isn\\u2019t he cute let\\u2019s get his head fixed so he stays like that oh you can get their heads done cost you a bundle and they don\\u2019t like it makes them move to the same side all the time cute little goddamn doggie do you ever eat candy right in front of your dog i don\\u2019t mean a milky way i mean one at a time candy like mms and you watch where he\\u2019s looking he\\u2019s following your fingertips oh boy this asshole drops one jujube i\\u2019m going for his femoral artery did you ever spell in front of your dog some of them are smart you\\u2019ve gotta spell honey do we have any more bones b they know the sound of b alone b bone bone bone take it easy take it easy you know there\\u2019s all kinds of dogs and all sizes of dogs too there\\u2019s a lot of goddamn big dogs you know big dogs i don\\u2019t mean big i don\\u2019t mean a big dog i mean a fuckingbigdog some people have got goddamn big doggies look like they ought to have commercial license plate on them livestock dogs what the hell is that that\\u2019s my dog he blocked out the sun that\\u2019s tiny little dog is different little dog will get around and do fine he\\u2019ll jump all he wants i don\\u2019t know how they jump so high they got little teeny legs like this they got legs if you feel a little dog\\u2019s leg it feels like a beef jerky in there man they can jump up on the bed all they want to holy god do that again oh man one more time i make him keep doing it till he can\\u2019t reach anymore boom boom boom then if i want him up there i\\u2019ll put him up there and sooner or later what\\u2019s gonna happen with the little dog sooner or later lying on the bed he\\u2019s gonna create an incident he\\u2019s gonna make one of you humans turn to the other and say whew honey did you fart not me i thought you farted not me whew that\\u2019s not even one of my farts i\\u2019ve got four farts and that\\u2019s not one of mine i\\u2019ve got my heineken\\u2019s fart i got my broccoli fart my rice pudding fart and my nondairy creamer fart and that\\u2019s not one of my farts i know\\u2026 the dog farted tippy why did you fart look at him he knows he farted i seen his asshole open up i seen it well i happened to be looking at his asshole by chance what kind of a question is that i thought he was doing them deep breathing exercises you see dogs have nothing to do there\\u2019s no job description for a dog they\\u2019re forced to wait for something to happen that they can get in on if you do something they\\u2019ll be glad to join you but they rarely initiate any activity on their own they\\u2019re just waiting waiting waiting and waiting and waiting waiting to come in waiting to go out waiting to eat waiting to crap waiting to wake up waiting to sleep waiting to go upstairs waiting to go downstairs sometimes they\\u2019re just waiting to wait you ever seen a dog just standing there he don\\u2019t know what he\\u2019s waiting for but if it happens he\\u2019ll be ready just a waiting and a waiting waiting for you to come home they don\\u2019t understand time a dog doesn\\u2019t know the difference between an hour and a half or next week he thinks you\\u2019re going to be gone forever that\\u2019s the only time period dogs really understand forever that\\u2019s how long they think everything lasts that\\u2019s how long they think everything takes forever and ever did you ever scratch your dog behind the ears oh boy they love that huh the more you scratching your doggie behind the ears and he really loves that and you\\u2019re looking at him and everything and when you finally stop he looks at you like you\\u2019re a criminal he thought it was gonna go on and on and on same thing when you feed them soon as they get finished they say where the fuck\\u2019s the food they thought it was the loaves and the fishes it was gonna last forever and ever dog don\\u2019t know they must think we\\u2019re gonna be gone forever otherwise why would they act the way they do when we finally get home oh boy oh boy oh boy oh boy oh boy oh boy oh boy oh boy oh boy oh boy oh boy oh boy i thought you were never gonna come home i thought you were never gonna come home i thought you were never gonna come home i thought you were never gonna come home i didn\\u2019t know what to do you know what i don\\u2019t know how to operate the can opener how do you operate the can opener i didn\\u2019t know what to do man what do you push it down i couldn\\u2019t think of it do you know what do you know what i did i took a can of dog food and i rolled it down the hill and hoped a truck ran it over that\\u2019s all i could think of man i mean they\\u2019ll do that if you even just forgot your hat you come back in eight seconds oh boy oh boy i thought you were never gonna come home i thought you were never gonna come home i was gonna eat your bird i couldn\\u2019t find the bird where the fuck\\u2019s the bird will you stop that i was just here god they get you mad sometimes don\\u2019t they do you ever get mad at your dog and you feel really dumb and you get all the way to work and you\\u2019re still pissed at your pet what\\u2019s the matter dan well the dog goddamn it never mind he chewed the legs off everything okay i\\u2019ll see you at lunch dog don\\u2019t care he\\u2019ll do whatever is next he don\\u2019t know what\\u2019s next but he\\u2019ll do something they\\u2019ll do two things in a row that don\\u2019t go together you ever seen a dog walking through a room and suddenly he stops and chews his back for  minutes and then when he\\u2019s finished chewing as if it were scheduled for right then of course then when he\\u2019s finished he doesn\\u2019t even know where it was he was gonna go where was i gonna go oh shit oh i think i\\u2019ll go over here oh this is nice over here i think i\\u2019ll keep coming over here he don\\u2019t know he don\\u2019t care dog don\\u2019t care like i say he\\u2019ll do anything he might embarrass you he might do something inappropriate when you have company huh you might have some folks in visiting you some of them you don\\u2019t know that well trying to impress a couple of them hey you might be trying to borrow money off one of these studs dog is lying out there in the living room you got all these people sitting around you got a little chip a little dip dog\\u2019s in full view of everyone got carrot sticks celery sticks little lady fingers finger ladies all sorts of little things that you got and everybody\\u2019s eating nicely and you look down and you realize that the dog is licking his balls no one says anything no one mentions it spectacular thing going on hey if i could reach i\\u2019d never leave the house are you kidding poor little guy he didn\\u2019t mean it he didn\\u2019t mean it he\\u2019ll come he\\u2019ll apologize to you he\\u2019ll come around a few hours later and apologize he\\u2019ll give you that doggie look give you them eyes you know they have such a great expression almost human sometimes we say that isn\\u2019t he look he looks almost human dan they do you know they look like they know something about your mother they\\u2019re not willing to mention it right away they\\u2019re just looking at you like they got a trig problem they can\\u2019t quite solve there\\u2019s a there\\u2019s a sad look in their eyes all the sadness in the world is right in the eyes of a dog did you ever do this look right into your doggie\\u2019s eyes and think of something really sad and it\\u2019ll look like it\\u2019s happening to your dog strangest thing they look at you like that you know why they have so successful a look cause they got eyebrows dogs have eyebrows or at least little ridges that pass for eyebrows they got little things\\u2026 that they can manipulate just like we do oh please\\u2026 please daddy one\\u2026 more\\u2026 treatcats can\\u2019t look at you like that cats don\\u2019t look at that\\u2026 cats look at you coldly as if they\\u2019re testing new eyes reason cats look different cats don\\u2019t have eyebrows cats have a bunch of shit sticking out of their head they thought it was gonna be an eyebrow but it didn\\u2019t work out let\\u2019s not tell them they think it\\u2019s an eyebrow it\\u2019s just a bunch of shit sticking out of their heads cats are all different they do everything different than a doggie cats are cute cats are goddamn cute isn\\u2019t he cute look at him god he\\u2019s cute he\\u2019s a kitty cat that\\u2019s how cute they are they needed two names kitty wasn\\u2019t cute enough kitty cat isn\\u2019t he cute the kitty cat look at him isn\\u2019t he cute let\\u2019s drown him he\\u2019s a cute little goddamn kitty cat ain\\u2019t he look stick on the wall see if he hangs up there whoa little goddamn kitty cat they\\u2019re so goddamn cute when they\\u2019re teeny i hope he stays that size forever he\\u2019s darling isn\\u2019t he wonderful cute little goddamn kitty cat they can jump any way they want when they\\u2019re teeny they can jump straight up in the air without a run they just go vooom they can even jump backwards to the side how\\u2019d he do that holy shit they can do anything jump and be cute as can be cute goddamn kitty cat isn\\u2019t he cute god i love them they\\u2019re so cute they\\u2019re even cute when they kill isn\\u2019t he look he\\u2019s playing with the mouse bullshit mouse doesn\\u2019t feel that way they\\u2019re cute oh he\\u2019s so precious just tearing the throat right out of that bird cute as can be they kill see they like to kill something that\\u2019s what they want to do that\\u2019s why they act so nice they wanna go yaaah even when they\\u2019re teeny when they\\u2019re just born you take a baby baby that is a human you take a baby dog and a baby cat and you attack all three of them which i try never to do if i can help it but you\\u2019ll get three different results you attack a baby he cries you attack a puppy he cowers you attack kitty cat he fights one day old they\\u2019re looking for some shit they ain\\u2019t even got their eyes open they\\u2019ll grab anything nasty little cute thing cute little nasty guy oh they\\u2019re wonderful god love them they\\u2019re so physical that\\u2019s what\\u2019s fun they\\u2019re so physical they love to rub on you they love to rub on you if you\\u2019ve got a leg and a cat whew you got a party oh boy oh boy oh boy oh boy i love his leg oh boy i\\u2019m rubbing on his leg oh boy oh boy if you got two legs shit jubilee celebration time oh boy two legs hot shit i can do the figure eight they love to do the figure eight oh boy oh boy oh boy i love to rub on his leg they\\u2019ll rub against your leg even if you\\u2019re not there yet you might still be  feet down the hall they see you coming oh boy oh boy oh boy soon i\\u2019ll be rubbing on his leg soon they\\u2019ll even walk sideways so they don\\u2019t miss you oh boy oh boy oh boy oh boy they love it they\\u2019re so physical you don\\u2019t have to pet a cat you just put your hand over him and he\\u2019ll do all the work man oh boy oh boy oh boy you pet him you ever pet a cat who\\u2019s lying absolutely flat and before you\\u2019re halfway finished his ass is way up in the air like you pressed the ass button or something isn\\u2019t he a cute little\\u2026 holy shit how did he do that then they jump on your chest and put their ass right in your face here\\u2019s my ass dad check this ass huh and while they\\u2019re showing you their ass they give you some of this stuff i say get him off of me jesus i hate that i don\\u2019t even know what it is and i don\\u2019t like it it looked like they\\u2019re into some bad drug there\\u2019s one other quality cats have which uh i admire cats don\\u2019t accept blame they don\\u2019t embarrass at all a cat does something dumb you\\u2019d never know it by looking at him dog knocks over a lamp you can tell who did it just by looking at the dog not the cat cat doesn\\u2019t accept any blame cat moves along to the next activity what\\u2019s that not me fuck that i\\u2019m a cat something break ask the dog cat doesn\\u2019t get embarrassed you ever seen a cat race across a carpet and crash into a glass door i meant that i meant that i meant that that\\u2019s exactly how i wanted that to look fucking meow fucking meow fucking meow that\\u2019s what they say when they get behind the couch a cat\\u2019s too proud to let you see him suffer but you look behind the couch and you\\u2019ll find your cat recuperating from a domestic accident they got little slings and walkers you know tried to make the window from the lamp little kitty cat goddamn kitty cat do you realize hitler only had one ball what do you think about a man with one ball do you think he has two strikes against him maybe he\\u2019s got one ball and two strikes hitler only had one ball a lot of people don\\u2019t know that a lot of people don\\u2019t know that they say hitler geez he had a lot of balls\\u2026 onefor some time i was trying to get a list of words together that would fairly represent the dirty words cause nobody gives you a list of dirty words for life have you noticed that there\\u2019s some words that are perfectly clean but sound like they could be filthy if you gave them just a little help a word like pussyfoot it\\u2019s perfectly clean but when you say pussyfoot there\\u2019s a little giggle cause people know that with a little help this word could be filthy no matter what form of the verb you try it\\u2019s clean as a verb but pussyfoot could be a noun it could be a noun pussyfoot a rare disorder a female birth defect hello boys i have pussyfoot god you sure do lady and i love them opentoed shoes you have on well i\\u2019d rather have pussyfoot than woodpecker i can say thator beer nuts god that must be awful beer nuts the official disease of milwaukee i know whenever i see the little canister behind the bar i drop in a couple of dollars for beer nuts i think we need a lot more research on beer nuts or cotton balls which is the dreaded final stage of beer nuts when my beer nuts turn to cotton balls i\\u2019ll be heading home to you it\\u2019s an old southern hymnlots of little phrases like that in the language that don\\u2019t quite say what they mean take a shit is another one take a shit you don\\u2019t take shit you leave a shit that\\u2019s the whole idea to leave it i left a shit fine thank you jeff where\\u2019d you leave it in the icebox i\\u2019m gonna take a shit don\\u2019t take one of mine i only have two left and the weekend is coming up why don\\u2019t you go home and take one of your own shits guy\\u2019s always mooching off me he must think i\\u2019m made of shit or something boy that shit don\\u2019t grow on trees you know well enough of that shit lots of little phrases like thatpick your nose is well blow your nose blow your nose is a phrase imagine that blowing your nose i don\\u2019t believe they really mean that do you you can\\u2019t blow your nose i believe it\\u2019s physically impossible to blow your nose you might get somebody else to blow your nose but it would have to be a real good friendcocktails another clean word you can advertise them you can put up signs all over town cocktails as long as you use both halves of the word perfectly fine but you can\\u2019t advertise either one of those two items if you break those words in half they\\u2019ll come and take your sign down cocktail it\\u2019s okay it depends on how you say that kind of word you ladies like some cocktails hey lady you want a cocktailcockpit men will actually laugh about that cockpit get it oh yeahbangkok there\\u2019s a lovely city how would you like to be a hooker in bangkok it would seem like a natural habitatpeacock nbc is really proud of their peacock you know what a female peacock is a peacuntmy list i was just trying to isolate the words that were always filthy not the ones that were sometimes dirty and the original list was shit piss fuck cunt cocksucker motherfucker and tits this was all i could think of in one sitting just one try but we had to add some we had shit piss fuck cunt cocksucker motherfucker tits and then we added fart turd and twat which also don\\u2019t have other meanings you know twat\\u2019s twat and that\\u2019s that but after a while it didn\\u2019t take long well it took quite a while but i finally discovered that there are only two words on the list you really had to deal with to sort of look at the double standard that television uses where language is concerned uh the two words were fart and fuck those are the only two they seem similar because you can\\u2019t say either one of them you can\\u2019t say fart and you can\\u2019t say fuck no matter how cleverly you try to work them in no matter how clinical the conversation is fart and fuck will not show up on the final tape you simply cannot say them but that\\u2019s where the similarity ends cause at least with the word fuck even though you can\\u2019t say the word fuck you can talk about fucking oh you can refer to fucking there\\u2019s lots of fuck talk going on on tv they just don\\u2019t call it fucking that\\u2019s the secret they don\\u2019t use that word there\\u2019s plenty of fuck talk you see people who wrote a book about fucking you\\u2019ll see a guy on a talk show who wrote a book about fucking how to fuck who to fuck when to fuck why to fuck and how to feel after you fuck this man is a fuck expert and he wrote a fuck book and he\\u2019s talking to merv griffin about fucking and they\\u2019re getting away with it cause they don\\u2019t call it fucking same with the soap operas everybody you take a look at a soap opera and you know everybody is fucking somebody on a soap opera and if they\\u2019re not fucking somebody they\\u2019re trying to fuck somebody will he fuck her did he fuck her has he fucked her should he fuck her can he fuck her some more will they fuck too much will they get silly from fucking who is fucking who that\\u2019s all you want to know is what the fuck is going on on this program here you know that somebody is getting fucked and you think it\\u2019s you so there\\u2019s lots of fuck talk and there\\u2019s plenty of fucking on television they just don\\u2019t call it fucking they call it everything elsenow on the other hand farts not only can you not mention the word fart but you can\\u2019t refer to farts at all that\\u2019s how bad farts are they\\u2019re worse than fucking you never hear anybody talking about farts on tv you\\u2019ve never seen a guy who wrote a book on farts how to fart who to fart at how to feel after you fart there\\u2019s no fart experts on the merv griffin show you don\\u2019t see any farts or fart references it\\u2019s a fart free zone wouldn\\u2019t you think after  years one guy by now would have gone whew just once just once i\\u2019d like to see someone on the johnny carson panel say hey ed move down man that was a clydesdale fartwell anyway uh after a while i realized that i was needlessly restricting myself to seven words and only to the ones that weren\\u2019t allowed on tv i mean there were a lot more to be looked at and television isn\\u2019t the only place that objects to your language sometimes there are lots of situations where you\\u2019re not supposed to say that so i expanded the list by as many as i could and i\\u2019d like to share some with you now this list is a little longer than it was before first we start with the ones we already know shit piss fuck cunt cocksucker motherfucker tits fart turd and twat crap balls prick asshole jackoff jerkoff scumbag douche bag hardon rodon boner stiff piss hard blue balls nookie cooze gash slash hole slit snatch box beaver pussy bearded clam gism cum cream juice pecker peckerhead peckertracks dick dork dong doniker wang shlong shwans pork crabs ass butt heinie tuckus bum buns cheeks screw lay diddle plow hump bang poke batter wham knock up bugger ground jugs bazooms knockers knobs lungs balloons dildo joy stick hair pie muff cornhole rim job blow job sugar bowl pie suck off give head sit on my face butt fuck finger fuck clap bleat   which is  with two fingers up your ass daisy chain circle jerk cock teaser wet dream cunt struck pussy whipped short arm tuna taco group grope milking the chicken bulldagger gangbang ball breaker ball buster merkin bananas and cream up the old dirt road around the world beat your meat whack off flogging your dong pounding your pud beating the bishop poontang dingleberry sit on it fudge packer milking the lizard fart face old fart farting around fart sniffer ream snake raincoat quickie queer queen putz put out push beef injection dog style pop your cookies bust your nuts oneeyed monster knob pocket pool tail piddle paddle the pickle oneman band snapper notch garage shaft stick piece of ass goddammit pimp hooker punk faggot dike lezzie box lunch sea food hand job hammer hatch head job hot nuts hum job prong jelly roll jerk the gherkin lob meat whistle cheese cat fan middle leg wanking bootie love muscle snappin\\u2019 pussy bitch bastard clam bite the brown going up mustard road bone on bush button cunt lapper cherry tool dingus quif quim get off joint peace stem root crack cootch crud eat me fuck you up your ass get laid fuck off piss off piss on you stick it stuff it ram it jam it cram it horny peter the oneeyed wonder worm piece of ass little brown eyeball golden showers pound cake boy in the boat brown eyes brown nose sloppy seconds mongolian cluster fuck rod of love copping a feel copping a cherry copping a joint on the rag flying the flag riding the cotton pony dipping your wick going down on dry hump fist fuck skin flute french job furburger nuts get your rocks off get in get it up hung ginch gobble diesel dock rubber shoot\\u2026 diesel dike that was\\u2026 syph wad cocksman tit fuck tongue rough trade trick weenie and yodeling in the gully thank you and i\\u2019ll see you next timeyour email address will not be published required fields are marked nameemailwebsite \\n\\ndavid cross worst daddy in the world showcases david cross\\u2019s return to the stage blending humor with candid observations about fatherhood societal quirks and personal flawsgenderqueer comics from around the world take the stage at london\\u2019s alexandra palace in this comedy showcase hosted by the awardwinning hannah gadsbydan soder muses on wanting simplicity the perks of attractiveness quirky life anecdotes aging tech fears and finding humor in daily absurditiesfirsttime host nate bargatze talks about going to county fairs in the \\u2019 to watch his dad perform and his mom going to the wrong house to pick up his daughter\",\n          \"i know i\\u2019m a little late with this but i\\u2019d like to get a few licks on this totally bogus topic before it completely disappears from everyone\\u2019s consciencesfirst i want to be really clear about one thing as far as other people\\u2019s feeling are concerned\\u2014especially these \\u201cvictim groups\\u201d\\u2014when i deal with them as individuals i will call them whatever they want when it\\u2019s one on one if some guy wants me to call him a morbidly obese africanancestored male with a same gendered sexual orientation i\\u2019ll be glad to do that one the other hand if he wants me to call him a fat ngger  than that\\u2019s what it will be i\\u2019m here to pleaseif i meet a woman who wishes to be to be referred to as a motionimpaired same genderoriented italianamerican who is difficult to deal with fine on the other hand i am perfectly willing to call her a crippled guinea  cnt if she prefers i\\u2019m not trying to change anyone\\u2019s self image but but when i am speaking generally and impersonally about a large group of people i will call them what i think is honest and fair and i will not try and bullshit myselfokay so who exactly are these victims well first of all i don\\u2019t think everyone who says he is a victim automatically qualifies i don\\u2019t think a homely disfigured bald minority person with a room temperature iq who limps and stutters is necessarily always a victim although i will say that she probably shouldn\\u2019t be out trying to get work as a receptionist but maybe that\\u2019s just the way it oughtta bei\\u2019m more interested in the real victims people who have been fucked over by the system because the united states is a christian racist nation with a rigged economic system run for three hundred years by the least morally qualified of the two sexes there were bound to be some real victims people who have been elaborately fucked overthe way i see it this country has only four real victim groups indians blacks women and gays i purposely left out the spanish and asians because when you look at what happened to the indians and the blacks the spanish and asian people had a walk in the park it\\u2019s not even close not to downplay the shit they\\u2019ve had to eat but in about one hundred years the spanish and asians are going to be running this country so they\\u2019ll have plenty of chances to get even with the gray peoplelet\\u2019s get to some of these other nonvictims you probably noticed elsewhere i used the word fat i used that word because that\\u2019s what fat people are they\\u2019re fat they\\u2019re not large they\\u2019re not stout chunky hefty or plump and they\\u2019re not bigboned dinosaurs are bigboned these people are not necessarily obese either obese is a medical term and they\\u2019re not overweight overweight implies there is some correct weight there is no correct weight heavy is also a misleading term an aircraft carrier is heavy it is not fat only people are fat that\\u2019s what fat people are they\\u2019re fat i offer no apology for this it is not intended as criticism or insult it is simply descriptive language i don\\u2019t like euphemisms euphemisms are a form of lying fat people are not gravitationally disadvantaged they\\u2019re fat i prefer seeing things the way they are not the way some people wish they werei don\\u2019t believe groups deserve extraspecial names for instance midgets and dwarfs are midgets and dwarfs they are not little people infants are little people leprechauns are little people  midgets and dwarfs are midgets and dwarfs they don\\u2019t get any taller by calling them little people i wish their lives were different i wish they didn\\u2019t have to go around starring at other peoples crotches but i can\\u2019t fix that and i\\u2019m not going to lie about what they are the politically sensitive commandos would probably like me to call them \\u201cvertically challenged\\u201d they are not vertically challenged a skydiver is vertically challenged the person who designed the empire state building was vertically challenged midgets and dwarfs are midgets and dwarfsalso crippled people are crippled they are not differentlyabled if you insist on using such tortured language as differentlyabled then you must use it on all of us we\\u2019re all differentlyabled you can do things i can\\u2019t do i can do things you can\\u2019t do i can pick my nose with my thumb i can switch hands while masturbating and gain a stroke we are all differentlyabled crippled people are crippled it\\u2019s a perfectly honorable word there is no shame in it it\\u2019s in the bible \\u201cjesus healed the cripples\\u201d he didn\\u2019t \\u201cengage in rehabilitative strategies for the physically disadvantaged\\u201dso leaving women and gays aside for a moment i\\u2019ve narrowed it down to blacks and indians let\\u2019s talk about what we ought to call them and remember this has nothing to do with the people themselves it has to do with the wordsand by the way when it comes to liberal language vandals i must agree with there underlying premise white europeans and their descendants are morally unattractive people who are responsible for most of the world\\u2019s suffering that part is easy you would have to be uh visually impaired not to see it the impulse behind political correctness is a good one but like every good impulse in america it has to be grotesquely distorted beyond usefulnessclearly these are victims but i don\\u2019t agree that these failed campus revolutionaries know what to do about them when they\\u2019re not busy curtailing freedom of speech they\\u2019re running around inventing absurd hyphenated names designed to make people feel better remember these are the white elitists in there customary paternalistic role protecting helpless inept minority victims  big daddy white boss always knows bestso let me tell you how i handle some of these speech issues first of all i say \\u201cblack\\u201d i say \\u201cblack\\u201d because most black people prefer \\u201cblack\\u201d i don\\u2019t say \\u201cpeople of color\\u201d people of color sounds like something you see when you are on mushrooms besides the use of people of color is dishonest it means precisely the same thing as colored people if you\\u2019re not willing to say \\u201ccolored people\\u201d you shouldn\\u2019t be saying \\u201cpeople of color\\u201dbesides the whole idea of color is bullshit anyway what should we call white people \\u201cpeople of no color\\u201d isn\\u2019t pink a color in fact white people aren\\u2019t really white at all they\\u2019re different shades of pink olive and beige in other words they\\u2019re colored and black people are rarely black i see mostly different shades of brown and tan in fact some lightskinned black people are lighter than the darkest white people look how dark the people in india are they\\u2019re dark brown but they\\u2019re still considered white people what\\u2019s going on here may i see the color chart \\u201cpeople of color\\u201d is an awkward bullshit  liberalguilt phrase that obscures meaning rather than enhancing it shall we call fat people \\u201cpeople of size\\u201dby the way i think the whole reason we are encouraged in this country to think of ourselves as black and white instead of pink and brown which is what we are is that black and white are complete opposites that cannot be reconciled black and white can never come together pink and brown on the other hand might just stand a chance of being blended might just come together can\\u2019t have that doesn\\u2019t fit the plani also don\\u2019t say \\u201cafricanamerican\\u201d i find it completely confusing which part of africa are we talking about what about egypt egypt is in africa egyptians aren\\u2019t black they\\u2019re like the people in india they\\u2019re the dark brown white people but they\\u2019re africans so why wouldn\\u2019t an egyptian who becomes a us citizen be an africanamericanthe same thing goes for the republic of south africa suppose a white racist from south africa becomes an american citizen well first of all he\\u2019d find plenty of company but couldn\\u2019t he also be called an african american it seems to me that a racist white southafrican guy could come here and call himself africanamerican just to piss off black people and by the way what about a black person born in south africa who moves here and becomes a citizen what is he is he a africansouthafricanamerican or a southafricanafricanamerican all right back to the hemisphere how about a black women who is a citizen of jamaica according to pc doctrine she\\u2019s africanjamaican right but if she becomes a us citizen she\\u2019s a jamaicanamerican and yet if one of these language crusaders saw her on the street he\\u2019d think she was africanamerican unless he knew her personally in which case he\\u2019d have to decide between africanjamaicanamerican and jamaicanafricanamerican ya know it\\u2019s just so much liberal bullshit labels divide people we need fewer labels not morei am an army brat  that is someone who doesn\\u2019t really belong anywhere anymore but has to fake it their entire life that they do  but now i find that i am in the vanguard of the culture  so many americans have the same experience of being displaced and not belonging anywhere because of the widespread moving away from one\\u2019s roots that it has become normal  so to feel we have roots we turn to things like pop music which is now commercialized  so our roots are not roots at all but we are just consumers being manipulated by our own narcissismyour email address will not be published required fields are marked nameemailwebsite \\n\\ndavid cross worst daddy in the world showcases david cross\\u2019s return to the stage blending humor with candid observations about fatherhood societal quirks and personal flawsgenderqueer comics from around the world take the stage at london\\u2019s alexandra palace in this comedy showcase hosted by the awardwinning hannah gadsbydan soder muses on wanting simplicity the perks of attractiveness quirky life anecdotes aging tech fears and finding humor in daily absurditiesfirsttime host nate bargatze talks about going to county fairs in the \\u2019 to watch his dad perform and his mom going to the wrong house to pick up his daughter\",\n          \"recorded on january \\u2013  state theatre new brunswick new jerseyso you want to talk about it oh yeah it all started in  i mean that\\u2019s when i started doing it regularly how many times have you done it six times i\\u2019ve done it six times why do you do it i don\\u2019t know it\\u2019s like i can\\u2019t help myself what does your family think thank god my family doesn\\u2019t know but how\\u2019d you get caught they were taping me taping you yeah every time i did it they had a tape running jumbo shrimp those words don\\u2019t even go together man that\\u2019s like military intelligence they have that too how did they do that that\\u2019s what they tell you get on the plane get on the plane fuck you i\\u2019m getting in the planei wonder a lot of things but that\\u2019s my job my job is thinking up goofy shit al sleet here your hippie dippie weather man with all the hippie dippie weather man got into an argument with my rice krispies i distinctly heard snap crackle fuck him have a nice day and the original list was shit piss fuck cunt cocksucker mother fucker and tits this was all i could think of in one sitting that\\u2019s all your house is is a place to keep your stuff while you go out and get more stuff but here\\u2019s a little cheer a lot of people like it it goes like this rat shit bat shit dirty old twat  assholes tied in a knot hurrah lizard shit fuck i never fucked a  but one night i fucked five  it strike you as mildly ironic that most of the people who are against abortion are people you wouldn\\u2019t want to fuck in the first place and now they\\u2019re thinking about banning toy guns and they\\u2019re going to keep the fucking real ones thank you thank you very much welcome to our show\\ndon\\u2019t you think it\\u2019s just a little bit strange that ronald reagan had an operation on his asshole and george bush had an operation on his middle finger huh huh what are these two men trying to tell usnow i\\u2019d like to begin tonight with an opening announcement because of the fcc i\\u2019m never sure what it is i\\u2019m allowed to say so so i now have my own official policy this is the language you will not be hearing tonight you will not hear me say bottom line game plan role model scenario or hopefully i will not kick back mellow out or be on a roll i will not go for it and i will not check it out i don\\u2019t even know what it is and when i leave here i definitely will not boogie i promise not to refer to anyone as a class act a beautiful person or a happy camper i will also not be saying what a guy and you will not hear me refer to anyone\\u2019s lifestyle if you want to know what a moronic word \\u201clifestyle\\u201d is all you have to do is realize that in a technical sense attila the hun had an active outdoor lifestyle i will also not be saying any cute things like moi and i will not use the french adverb tr\\u00e8s to modify any english adjectives such as tr\\u00e8s awesome tr\\u00e8s narly tr\\u00e8s fabut tr\\u00e8s intense or tr\\u00e8s out of sight i will not say concept when i mean idea i will not say impacted when i mean effected there will be no hands on state of the art networking we will not maximize prioritize or finalize and we definitely will not interface there will also\\u2026 there will also be no new age lingo spoken here tonight no support group jargon from the human potential movement for instance i will not share anything with you i will not relate to you and you will not identify with me i will give you no input and i will expect no feedback this will not be a learning experience nor will it be a growth period there\\u2019ll be no sharing no caring no birthing no bonding no parenting no nurturing we will not establish a relationship we will not have any meaningful dialogue and we definitely will not spend any quality time we will not be supportive of one another so that we can get in touch with our feelings in order to feel good about ourselves and if you\\u2019re one of those people who needs a little space please go the fuck outside we will we will however be talking about those little moments that seem to last forever have you ever been in a serious social situation when you suddenly realize you have to pull the underwear out of the crack in your ass do you take this woman to be your lawful wedded wife huh who her oh hell yeah well it\\u2019s one of life\\u2019s little moments isn\\u2019t it it\\u2019s one of those little moments you have to deal with at the time you can\\u2019t postpone that you can\\u2019t put that off and be walking around like this you\\u2019ve got to get in there and clear that thing out you\\u2019ve got to rescue your underwear there\\u2019s a letter in your mailbox that\\u2019s right and you have to rectify that situation so that you can move along to your next embarrassing moment which is probably scheduled immediately that\\u2019s the way life is full of those little moments everybody knows them everybody recognizes them you ever been at a really loud party i mean a good loud party where the music is playing too loud and everybody is talking too loudly and in order to be heard even by the person standing right next to you you\\u2019ve got to be screaming at the top of your lungs but every now and then at a party it seems as though everyone shuts up at the same time and only your voice can be heard right i know i know well what i\\u2019m going to do i\\u2019m going to have my testicles laminated life\\u2019s little moments you ever been talking to someone and you laugh through your nose and blow a snot on your shirt and you have to just kind of keep talking you know and make believe it\\u2019s part of the design works all right if you\\u2019re wearing a hawaiian shirt but otherwise they\\u2019re going to notice ed you got a big snot on your shirt some guys are really cruel you know and some of these things are not even your fault these little things that happen you didn\\u2019t cause the situation a lot of time you\\u2019re the victim you walk into some situation and suddenly you\\u2019re the one who\\u2019s taking all the heat not your fault give you an example of the kind of thing i mean did you ever meet somebody and you go to shake the guy\\u2019s hand and you suddenly realize he doesn\\u2019t have a complete hand and you got to make believe it feels great right you can\\u2019t go ahhhhhhhh ahhhhhhhh ahhhhh you can\\u2019t do that it\\u2019s not even an option you got to hang in there and say hi hey swell hand give me three hi  yo not your fault you didn\\u2019t cause that you weren\\u2019t even there when it happened to the guyyou were probably out walking your dog which is what i\\u2019m usually doing walking my dog because i love my dog i love all my dogs i love every dog i ever had i remember them all and i love every one of them still love all my dogs and i\\u2019ve had me a lot of god damn dogs in my lifetime i have had me a bunch of different dogs because you do keep getting a new dog don\\u2019t you you just keep getting one dog after another that\\u2019s the whole secret of life life is a series of dogs it\\u2019s true you just keep getting a new dog don\\u2019t you that\\u2019s what\\u2019s good about them they don\\u2019t live too long and you can go get a new god damn dog sometimes you can get a dog looks exactly like the dog you used to have right you shop around a little bit you can find a dog identical to your former dog and that\\u2019s real handy because you don\\u2019t have to change the pictures on your mirror or anything right you just bring the dead one into the pet shop throw him up on the counter say give me another one of them that was real good and they\\u2019ll give you a carbon copy of your exgod damn dog now my favorite dog that i ever had in my whole lifetime was tippie tippie was a good dog some of you remember i\\u2019ve talked about tippie tippie was a good dog tippie was a mixed terrier you know that word mixed that the veterinarian puts on the form when even he don\\u2019t know what the fuck you got you bring in a little mixed puppy to a veterinarian and say what is it he\\u2019ll say well it\\u2019s definitely not a monkey tippie was actually part dodge dart poor tippie was full of guilt so much so in fact she\\u2019s the only dog i ever had who committed suicide yeah well we don\\u2019t say it like that around the house we say she put herself to sleep but she ran out in front of a milk truck that\\u2019s fucking suicide but that was her decision that\\u2019s what tippie wanted to do and that\\u2019s the way it is in our family if you want to commit suicide we back you up so we supported tippie in her little suicide decision then we brought her into the pet shop threw her up on the counter and said give us something bigger we\\u2019re trading up we was looking for a bigger god damn dog because tippie had been teenie even before the truck came by the truck had made her teenier wider but teenier and we was looking for a bigger god damn dog not too big you know i don\\u2019t like a dog who\\u2019s bigger than i am it\\u2019s bad enough looking for shit in one direction without having to duck flying turds as well a good rule of thumb is keep the dog\\u2019s asshole below eye level so we compromised and we got us a midsized dog knee high just about like this size here best size you can own by the way most people know this is the ideal size dog to have you know why anybody comes to visit you the first thing that dog does is take his nose and put it right in their crotch oohh oohh he smells my dog no marge i don\\u2019t believe that\\u2019s the animal he has in mind and people get embarrassed by that especially the owner of the dog the owner\\u2019s the one who\\u2019s saying stop that stop that will you stop that now stop it i\\u2019m awfully sorry about this not me i say get in there and get some of that get in there and sniff that thing out go on listen would you mind spreading your legs a little bit so he can get right in there yeah stand like this for a little while would you okay looking good now so how\\u2019s your mom and dad doing anyway well god bless them it\\u2019s a wonderful couple go around the back check it out in the back sniff that other thing in the back there what\\u2019s that well there\\u2019s two different smells he likes what can i tell you don\\u2019t pay him no attention he\\u2019ll be finished in just about half an hour so listen reverend it\\u2019s real nice of you to come and call on us like this every one of us is always glad to see you around here especially that god damn dog those dogs are great they\\u2019ll break the ice when a new neighbor comes to call hi we\\u2019re the johnsons what\\u2019s his name ball sniffer he\\u2019s a crotch hound let me know if you want to get circumcised he\\u2019s on duty till  o\\u2019clock dogs are a constant source of entertainment did you ever have a dog that ate cat turds some of them do some of you must know that did you ever have a dog eat cat turds yeah of course you got to have a cat you know you can\\u2019t be buying cat turds at the supermarket but it\\u2019s true some dogs will eat cat turds yeah don\\u2019t let them lick you that day get a bottle of listerine for him try to make him gargle pour it down his throat and tell him to howl come on howl howl god damn it stomp on his tail howl i said god damn it howl oh dogs are a lot of fun did you ever have a dog that ate a bunch of colored balloons and then he takes a shit and it\\u2019s real decorative like or sometimes at christmas they\\u2019ll eat some tinsel and take a shiny shit wow look mom can we hang it on the tree well it is considered good luck in some cultures here\\u2019s a little household hint for you this will help you clean up after your dogs feed your dog a lot of rubber bands put a lot of rubber bands in with his regular food then when he takes a shit there\\u2019s usually a little loop in the end of it you just pick it up by the loop do you know what i mean throw it in the neighbor\\u2019s yard yeah that\\u2019s why i travel around give these little household hints bet you never read that one in heloise huhyeah about time for me to get a little drink of water figure this stuff is safe to drink huh actually i don\\u2019t care if it\\u2019s safe or not i drink it anyway you know why because i\\u2019m an american and i expect a little cancer in my food and water that\\u2019s right i\\u2019m a loyal american and i\\u2019m not happy unless i\\u2019ve let government and industry poison me a little bit every day let me have a few hundred thousand carcinogens here ah a little cancer never hurt anybody everybody needs a little cancer i think it\\u2019s good for you keeps you on your toes besides i ain\\u2019t afraid of cancer i had broccoli for lunch broccoli kills cancer a lot of people don\\u2019t know that it\\u2019s not out yet it\\u2019s true you find out you got some cancer get yourself a fucking bowl of broccoli that\\u2019ll wipe it right out in a day or two cauliflower too cauliflower kills the really big cancers the ones you can see through clothing from across the street broccoli kills the little ones the ones that are slowly eating you away from inside while your god damn goofy halfeducated doctor keeps telling you you\\u2019re doing fine jim in fact bring your doctor a bowel of broccoli he\\u2019s probably got cancer too probably picked it up from you they don\\u2019t know what they\\u2019re doing it\\u2019s all guesswork in a white coat here let me have a few more sips of industrial waste ah maybe maybe i can turn them cancers against one another that\\u2019s what you got to hope for you know that you get more than one cancer so they eat each other up instead of you in fact the way i look at it the most cancer you got the healthier you are well i know some people don\\u2019t like you to talk about those things i know that some people don\\u2019t like you to mention certain things some people don\\u2019t want you to say this some people don\\u2019t want you to say that some people think if you mention some things they might happensome people are really fucking stupid did you ever notice that how many really stupid people you run into during the day god damn there\\u2019s a lot of stupid bastards walking around carry a little pad and pencil with you you wind up with  or  names by the end of the day look at it this way think of how stupid the average person is and then realize half of them are stupider than that and it doesn\\u2019t take you very long to spot one of them does it take you about eight seconds you\\u2019ll be listening to some guy and say this guy is fucking stupid then then there are some people they\\u2019re not stupid they\\u2019re full of shit huh that doesn\\u2019t take very long to spot either does it take you about the same amount of time you\\u2019ll be listening to some guy saying well he\\u2019s fairly intelligent ah he\\u2019s full of shit then there are some people they\\u2019re not stupid they\\u2019re not full of shit they\\u2019re fucking nuts dan quayle is all three all three stupid full of shit and fucking nuts and where did he get that wife of his have you taken a good look at that marilyn quayle where did he get her at a halloween party or something she looks like prince charles for christ\\u2019s sake let me ask you something does he actually have to fuck that woman huh god help him i wouldn\\u2019t fuck her with a stolen dickthat\\u2019s my political humor people like it when you\\u2019re topical oh some people don\\u2019t like you to talk like that oh some people would like to shut you up for saying those things you know that lots of people lots of groups in this country want to tell you how to talk tell you what you can\\u2019t talk about sometimes they\\u2019ll say well you can talk about something but you can\\u2019t joke about it say you can\\u2019t joke about it because it\\u2019s not funny comedians run into that shit all the time like rape they\\u2019ll say you can\\u2019t joke about rape rape\\u2019s not funny i say fuck you i think it\\u2019s hilarious how do you like that i can prove to you that rape is funny picture porky pig raping elmer fudd see hey why do you think they call him porky huh i know what you\\u2019re going to say elmer was asking for it elmer was coming on to porky porky couldn\\u2019t help himself he got a hardon he got horny he lost control he went out of his mind lot of men talk like that lot of men think that way they think it\\u2019s the woman\\u2019s fault they like to blame the rape on the woman say hey she had it coming she was wearing a short skirt these guys think women ought to go to prison for being cock teasers don\\u2019t seem fair to me don\\u2019t seem right but you can joke about it i believe you can joke about anything it all depends on how you construct the joke what the exaggeration is what the exaggeration is because every joke needs one exaggeration every joke needs one thing to be way out of proportion give you an example did you ever see a news story like this is the paper every now and then you run into a story that says some guy broke into a house stole a lot of things and while he was in there he raped an  old woman and i\\u2019m thinking to myself why what the fuck kind of a social life does this guy have i want to say why did you do that well she was coming on to me we were dancing and i got horny hey she was asking for it she had on a tight bathrobe i say jesus christ be a little fucking selective next time will you now speaking of rape you know what i wonder i wonder is there more rape at the equator or the north pole these are the kind of things i think about when i\\u2019m sitting home alone and the power goes out i wonder is there more rape at the equator or the north pole i mean per capita i know the populations are different most people think it\\u2019s the equator i think it\\u2019s the north pole people think it\\u2019s the equator because it\\u2019s hot down there they don\\u2019t wear a lot of clothing guys can see women\\u2019s tits they get horny and there\\u2019s a lot of fucking going on that\\u2019s exactly why there\\u2019s less rape at the equator because there\\u2019s a lot of fucking going on you can tell there\\u2019s a lot of fucking at the equator take a look at the population figures billions of people life near the equator how many eskimos we got   no one\\u2019s getting laid at the north pole it\\u2019s too fucking cold guys say to their wives hey tonight honey huh tonight huh are you crazy the wind chill factor is  below these guys are deprived they\\u2019re horny they\\u2019re pent up every now and then they bust out they got to rape somebody now the biggest problem an eskimo rapist has trying to get wet leather leggings off a woman who\\u2019s kicking did you ever try to get leather pants off of someone who doesn\\u2019t want to take them off you would lose your hard on in the process up at the north pole your dick would shrivel up like a stack of dimes that\\u2019s another thing i wonder i wonder does a rapist have a hard on when he leaves the house in the morning or does he develop it during the day when he\\u2019s walking around looking for somebody these are the kind of thoughts that kept me out of the really good schoolsnow i probably got the feminists all pissed off at me because i\\u2019m joking about rape feminists want to control your language feminists want to tell you how to talk and they\\u2019re not alone they\\u2019re not alone i\\u2019m not picking on the feminists they got a lot of company in this country there\\u2019s a lot of groups lot of institutions in this country want to control your language tell you what you can say and what you can\\u2019t say government wants to tell you some things you can\\u2019t say because they\\u2019re against the law or you can\\u2019t say this because it\\u2019s against a regulation or here\\u2019s something you can\\u2019t say because it\\u2019s a secret you can\\u2019t tell him that because he\\u2019s not cleared to know that government wants to control information and control language because that\\u2019s the way you control thought and basically that\\u2019s the game they\\u2019re insame with religion religion is nothing but mind control religion is just trying to control your mind control your thoughts so they\\u2019re going to tell you some things you shouldn\\u2019t say because they\\u2019re sins and besides telling you things you shouldn\\u2019t say religion\\u2019s going to suggest to you some things you ought to be saying here\\u2019s something you ought to say first thing when you wake up in the morning here\\u2019s something you ought to say just before you go to sleep at night here\\u2019s something we always say on the third wednesday in april after the first full moon in spring at  when the bells ring religion is always suggesting things you ought to be saying same with political groups of all kinds political activists antibiased groups special interest groups are going to suggest the correct political vocabulary the way you ought to be saying things and that\\u2019s where the feminists come innow as i said i got nothing against the feminists in fact i happen to agree with most of the feminist philosophy i have read i agree for instance that for the most part men are vain ignorant greedy brutal assholes who\\u2019ve just about ruined this planet\\u2026 who\\u2019ve just about ruined this planet because they\\u2019re afraid someone might have a bigger dick out there somewhere men are basically insecure about the size of their dicks and so they go to war over it you don\\u2019t have to be a political scientist or a history major to see the bigger dick foreign policy theory at work it goes something like this what they have bigger dicks bomb them and of course the bombs and the bullets and the rockets are all shaped like dicks i don\\u2019t understand that part of it but it is part of the equation so i agree with that abstract that man men males have pushed the technology that just about has this planet in a stranglehold mother earth raped again guess who eh she was asking for it i also happen to like it when feminists attack these fat ass housewives who think there\\u2019s nothing more to life than sitting home on the telephone drinking coffee watching tv and pumping out a baby every nine months ba boom ba boom ba boom ba boom ba boom will seven be enough bob ba boom ba boom but what\\u2019s the alternative what\\u2019s the alternative to pumping out a unit every nine months pointless careerism putting on a man tailored suit with shoulder pads and imitating all the worst behavior of men this is the noblest thing that women can think of to take a job in a criminal corporation that\\u2019s poisoning the environment and robbing customers out of their money this is the worthiest thing they can think of isn\\u2019t there something nobler they can do to be helping this planet heal you don\\u2019t hear much about that from these middle class women i\\u2019ve noticed that most of these feminists are white middle class women they don\\u2019t give a shit about black women\\u2019s problems they don\\u2019t care about latino women all they\\u2019re interested in is their own reproductive freedom and their pocketbooks but when it comes to changing the language i think they make some good points because we do think in language and so the quality of our thoughts and ideas could only be as good as the quality of our language so maybe some of this patriarchal shit ought to go away i think spokesmen ought to be spokesperson i think chairman ought to be chairperson i think mankind ought to be humankind but they take it too far they take themselves too seriously the exaggerate they want me to call that thing in the street a person hole cover i think that\\u2019s taking it a little bit too far what would you call a lady\\u2019s man a person\\u2019s person that would make a heman an it person little kids would be afraid of the boogie person they\\u2019d look up in the sky and see the person in the moon guys would say come back here and fight like a person and we\\u2019d all sing for it\\u2019s a jolly good person that\\u2019s the kind of thing you would hear on late night with david letterperson you know what i mean so i think it\\u2019s an exaggeration and i like to piss off any group that takes itself a little bit too seriously and it does not take a lot of imagination to piss off a feminist all you got to do is run into now headquarters or ms magazine and say hey which one of you cute little cupcakes wants to come home and cook me a nice meal and give me a blow job blow job oh that pisses them off you want to piss off a feminist call her a cum catcher that\\u2019ll get her attention ah don\\u2019t act disgusted don\\u2019t act disgusted half of you are going to go home and go down on each other tonight remember if you\\u2019re willing to swallow cum let\\u2019s not make believe something i said was disgusting okay all right let\\u2019s not have a double standard here one standard will do just finenow speaking of blowjobs do you know why they call it a blowjob so it\\u2019ll sound like it has kind of a work ethic attached to it make you feel like you did something useful for the economy long as i\\u2019m being a complete pig up here let me ask you guys a question let me ask one question of the men are you ever able to watch a woman eating a banana and not think about a blowjob huh i can\\u2019t do it i can\\u2019t do it and i know why i\\u2019m a sick evil fuck i know that i accept that but i can\\u2019t do it eating a banana eating a pickle licking on an ice cream cone i\\u2019m saying to myself look at the tongue on her wow so you women be careful when you\\u2019re standing out in front of that hagen daas because god damn it we\\u2019re watching and god damn it we\\u2019re thinking another woman\\u2019s issue prostitution i do not understand why prostitution is illegal why should prostitution be illegal selling is legal fucking is legal why isn\\u2019t selling fucking legal you know why should it be illegal to sell something that\\u2019s perfectly legal to give away i can\\u2019t follow the logic on that at all of all the things you can do too a person giving someone an orgasm is hardly the worst thing in the world in the army they give you a medal for spraying napalm on people civilian life you go to jail for giving someone an orgasm maybe i\\u2019m not supposed to understand iti got strange ideas anyway you know what i think they ought to do with that miss american contest i think they ought to make the losers keep coming back until they win i\\u2019ll tell you that would get a little spooky after about  years or so huh i just want to work on world peace fine sit down before you fall down will you and pick up all these goddamn batons i got a lot of ideas you know what i think i think kleenex ought to have little targets on them wouldn\\u2019t that be a good idea little bulls eyes right in the middle of the kleenex make it kind of sporting when you\\u2019re with your friends blowing nose sound look dave an  that\\u2019s a good idea i got a lot of good ideas trouble is most of them suck i got a lot of good ideas for new products like that that\\u2019s what i think about on my off duty hours things we need products we ought to have that we don\\u2019t have you know what we ought to have we ought to have a diet salad dressing called  islands see good god damn ideas like that huh a christian deodorant thou shalt not smell how about a feminine hygiene spray called sprunt huh well you\\u2019d never forget the name would you it would always be on the tip of your tongue see marketing marketing that\\u2019s where i belong among other places marketing here\\u2019s an idea i got this is a yoyo with a  string you use it when you visit the grand canyon see i\\u2019m a visionary i\\u2019m ahead of my time trouble is i\\u2019m only about an hour and a half ahead here\\u2019s a good idea a light bulb that only shines on things worth looking at yeah kind of too idealistic never make any money on a thing like that here\\u2019s something that\\u2019s going to make you a fortune get in on this this is a roach spray it doesn\\u2019t kill the roaches but it fills them with selfdoubt as to whether or not they\\u2019re in the right house yeah here\\u2019s something i\\u2019m trying to interest the japanese electronics firms in this this would be a great product for sony this is a combination cassette player and colostomy bag it\\u2019s called shitman huh sure well you never see that you never see that you never see a guy jogging down the street listening to a shitman no that\\u2019s one of those things you never see there\\u2019s a lot of things you never see and you don\\u2019t know you don\\u2019t see them because you don\\u2019t see them you got to see something first to know you never saw it then you see it and say hey i never saw that too late you just saw it i know things you never see you never see a rolls royce with a bumper sticker that says shit happens you never see a really big tall fat chinese guy with red hair you never see a wheelchair with the roll bar you never see someone taking a shit while running at full speed and you never see a picture of margaret thatcher strapping on a dildo you\\u2019ll never see it that\\u2019s one of those things you never see then there are some things you never hear that makes sense some things you never hear you never hear this dad you really ought to drink more here\\u2019s something you don\\u2019t hear too often do what you want to the girl but leave me alone here is something no one has ever heard ever ever as soon as i put this hot poker in my ass i\\u2019m going to chop my dick off you know why you never heard that right no one ever said that which to me is the more amazing thing no one ever thought to say that before tonight i\\u2019m the first person in the world to put those words together in that particular order first guy number one here\\u2019s something you don\\u2019t hear too often honey let\\u2019s sell the children move to zanzibar and begin taking opium rectally mom mom i got a big date tonight can i borrow a french tickler from you then there are some things you don\\u2019t want to hear some things you just flat don\\u2019t want to hear you don\\u2019t want to come home from work and hear honey remember how we told the children never to play on the railroad tracks you don\\u2019t want to be sitting in your doctor\\u2019s office and hear this well jim there\\u2019s no reason why you shouldn\\u2019t live another  to  years however you will be bleeding constantly from both eyes here\\u2019s something i don\\u2019t want to hear i\\u2019m pregnant you\\u2019re the father and i\\u2019m going to kill all three of us calm down have some dip honey it\\u2019s the police they have a search warrant and the  kilos of cocaine are still sitting out in the living room here\\u2019s something nobody wants to hear nobody wants to hear this try to think back to when this was appropriate to your life you and your fianc\\u00e9 have been invited to your mom and dad\\u2019s house for dinner for the first time halfway through dinner your fianc\\u00e9 stands up and says i\\u2019ll be right back i got to take a dump there seems to be no really gentile way of announcing publicly a dump and frankly i\\u2019m not impressed with people who tell me what they\\u2019re going to do when they go to the bathroom in the first place doesn\\u2019t it bother you people that announce it i\\u2019ll be right back i\\u2019m going to take a shit never mind do what you have to do and leave me out of it and don\\u2019t describe it when you come back boy you should have seen\\u2026 never mind it set off the smoke alarm never mind i have never understood that nor have a cared for itsomething else i don\\u2019t care for these organ donor programs that shit bother you a little bit sounds like josef mengele\\u2019s been sitting on some of those meetings or something organ donor programs the thing that bothers me the most about it is they\\u2019re run by the motor vehicle bureau i figure hey shit you got to wait on a line that long for a kidney fuck it do without it\\u2019s the motor vehicle bureau in most states who send you the little card you\\u2019re supposed to carry right next to your wallet right next to your driver\\u2019s license in your wallet little card you\\u2019re supposed to fill it out and on it you\\u2019re supposed to list the organs you\\u2019re willing to give in case you die are these people out of their fucking minds or something do you honestly believe that if a paramedic finds that card on you in an automobile accident he\\u2019s going to try to save your life bullshit he\\u2019s looking for parts man absolutely look dan here\\u2019s that lower intestine we\\u2019ve been looking for never mind the oxygen this man\\u2019s a donor bullshit they want something of mine they can have my rectum and my anus that\\u2019s all i\\u2019m giving take them and get out of here put them in your bag and get the fuck out of my life that\\u2019s all i\\u2019m giving i don\\u2019t want some guy poking around in me hoping i die i want to live i don\\u2019t want to die that\\u2019s the whole secret of life not dying i figured that shit out alone in third gradeand don\\u2019t be pulling any plugs on me either here\\u2019s another bunch of macho asshole bullshit floating around this country people talking about ah pull the plug on me if i\\u2019m ever like that if i\\u2019m comatose if i\\u2019m like a vegetable pull the plug on me fuck you leave my plug alone get an extension cord for my plug i want everything you got tubes cords plugs probes electrodes iv\\u2019s you got something stick it in me man you find out i got a hole i didn\\u2019t know i had put a fucking plug in it vegetable shit i don\\u2019t care if i look like an artichoke save my ass there\\u2019s three things i want if i\\u2019m ever in that condition three things i got to have ice cream morphine and television you give me that ice cream every two hours give me that morphine about\\u2026 every ten minutes and turn on the fucking tv i want to see geraldo and don\\u2019t be coming to visit me i got no time for life people i\\u2019m brain dead here you people got no respect for the brain dead hey you got to be brain dead to watch geraldo in the first place you might as well watch him when you\\u2019re clinically brain dead there\\u2019s one other thing i thought about concerning this comatose thing and this might help you someday this little piece of information might come in handy sometime in the future if you\\u2019re in this circumstance if you knew a family if you knew a family and one of them was a homosexual and he was in an automobile accident and he was comatose you could always comfort that family by saying well look at it this way he was a fruit now he\\u2019s a vegetable listen at least he\\u2019s still in the produce sectionnow i probably got some other group pissed off at me because i said fruit there\\u2019s a different group to get pissed off at you in this country for everything you\\u2019re not supposed to say can\\u2019t say fruit can\\u2019t say faggot can\\u2019t say queer can\\u2019t say nancy boy can\\u2019t say pansy can\\u2019t say ngger boogie jig jiggaboo skinhead jungle bunny moolie moolie yan or schwarz can\\u2019t say yid heeb zeeb kike mackie dego ginny wop ginzo greaser greaseball spick beaner oya tiger pr mick donkey turkey limey frog squarehead kraut jerry hun chink jap nip slope slopehead zip zipper head gook there is absolutely nothing wrong\\u2026 there is absolutely nothing wrong with any of those words in and of themselves they\\u2019re only words it\\u2019s the context that counts it\\u2019s the user it\\u2019s the intention behind the words that makes them good or bad the words are completely neutral the words are innocent i get tired of people talking about bad words and bad language bullshit it\\u2019s the context that makes them good or bad the context that makes them good or bad for instance you take the word ngger there is absolutely nothing wrong with the word ngger in and of itself it\\u2019s the racist asshole that\\u2019s using it that you ought to be concerned about we don\\u2019t care when richard pryor or eddie murphy says it why because we know they\\u2019re not racists they\\u2019re nggers context context we don\\u2019t mind their context because we know they\\u2019re black hey i know i\\u2019m whitey the blueeyed devil patio fake gray boy honkie motherfucker myself don\\u2019t bother my ass they\\u2019re only words you can\\u2019t be afraid of words that speak the truth even if it\\u2019s an unpleasant truth like the fact that there\\u2019s a bigot and a racist in every living room on every street corner in this country i don\\u2019t like words that hide the truth i don\\u2019t like words that conceal reality i don\\u2019t like euphemisms or euphemistic language and american english is loaded with euphemisms because americans have a lot of trouble dealing with reality americans have trouble facing the truth so they invent the kind of a soft language to protect themselves from it and it gets worse with every generation for some reason it just keeps getting worsei\\u2019ll give you an example of that there\\u2019s a condition in combat most people know about it it\\u2019s when a fighting person\\u2019s nervous system has been stressed to its absolute peak and maximum can\\u2019t take any more input the nervous system has either snapped or is about to snap in the first world war that condition was called shell shock simple honest direct language two syllables shell shock almost sounds like the guns themselves that was  years ago then a whole generation went by and the second world war came along and the very same combat condition was called battle fatigue four syllables now it takes a little longer to say doesn\\u2019t seem to hurt as much fatigue is a nicer word than shock shell shock battle fatigue then we had the war in korea in  madison avenue was riding high by that time and the very same combat condition was called operational exhaustion hey we\\u2019re up to eight syllables now and the humanity has been squeezed completely out of the phrase it\\u2019s totally sterile now operational exhaustion sounds like something that might happen to your car then of course came the war in viet nam which has only been over for about  or  years and thanks to the lies and deceits surrounding that war i guess it\\u2019s no surprise that the very same condition was called posttraumatic stress disorder still eight syllables but we\\u2019ve added a hyphen and the pain is completely buried under jargon posttraumatic stress disorder i bet you if we\\u2019d have still been calling it shell shock some of them viet nam veterans might have gotten the attention they needed at the time but it didn\\u2019t happen and one of the reasons is because we were using that soft language that language that takes the life out of lifeand it is a function of time it does keep getting worse give you another example sometime during my life sometime during my life toilet paper became bathroom tissue i wasn\\u2019t notified of this no one asked me if i agreed with it it just happened\\ntoilet paper became bathroom tissue\\n sneakers became running shoes\\n false teeth became dental appliances\\n medicine became medication\\n information became directory assistance\\n the dump became the landfill\\n car crashes became automobile accidents\\n partly cloudy became partly sunny\\n motels became motor lodges\\n house trailers became mobile homes\\n used cars became previously owned transportation\\n room service became guest room dining\\n and constipation became occasional irregularity\\n when i was a little kid if i got sick they wanted me to go to the hospital and see the doctor now they want me to go to a health maintenance organization or a wellness center to consult a healthcare delivery professional\\n poor people used to live in slums now the economically disadvantaged occupies substandard housing in the inner cities\\n and they\\u2019re broke they\\u2019re broke they don\\u2019t have a negative cash flow position they\\u2019re fucking broke\\n because a lot of them were fired you know fired management wanted to curtail redundancies in the human resources area so many people are no longer viable members of the workforce\\n smug greedy wellfed white people have invented a language to conceal their sins it\\u2019s as simple as that\\n the cia doesn\\u2019t kill anybody any more they neutralize people or they depopulate the area\\n the government doesn\\u2019t lie it engages in disinformation\\n the pentagon actually measures nuclear radiation and something they call sunshine units\\n israeli murderers are called commandos\\n arab commandos are called terrorists\\n contra killers are called freedom fighters well if crime fighters fight crime and firefighters fight fire what do freedom fighters fight they never mention that part of it to us do they never mention that part of it\\nsome of this stuff is just silly we all know that like on the airlines they say they want to pre board well what the hell is pre board what does that mean to get on before you get on\\nthey say they\\u2019re going to pre board those passengers in need of special assistance cripples simple honest direct language there\\u2019s no shame attached to the word cripple that i can find in any dictionary no shame attached to it in fact it\\u2019s a word used in bible translations jesus healed the cripples doesn\\u2019t take seven words to describe that condition but we don\\u2019t have any cripples in this country any more we have the physically challenged is that a grotesque enough evasion for you\\nhow about differently abled i\\u2019ve heard them called that differently abled you can\\u2019t even call these people handicapped anymore they\\u2019ll say we\\u2019re not handicapped we\\u2019re handy capable these poor people have been bullshitted by the system into believing that if you change the name of the condition somehow you\\u2019ll change the condition well hey cousin doesn\\u2019t happen doesn\\u2019t happen\\nwe have no more deaf people in this country hearing impaired\\n no one\\u2019s blind any more partially sighted or visually impaired\\n we have no more stupid people everybody has a learning disorder or he\\u2019s minimally exceptional how would you like to be told that about your child he\\u2019s minimally exceptional oh thank god for that\\n psychologists actually have started calling ugly people those with severe appearance deficits\\nit\\u2019s getting so bad that any day now i expect to hear a rape victim referred to as an unwilling sperm recipient\\n and we have no more old people in this country no more old people we shipped them all away and we brought in these senior citizens isn\\u2019t that a typically american  century phrase bloodless lifeless no pulse in one of them a senior citizen and i\\u2019ve accepted that one i\\u2019ve come to terms with it i know it\\u2019s here to stay we\\u2019ll never get rid of it that\\u2019s what they\\u2019re going to be called so i\\u2019ll relax on that but the one i do resist the one i keep resisting is when they look at an old guy and they say look at him dan he\\u2019s  years young imagine the fear of aging that reveals to not even be able to use the word old to describe someone to have to use an antonym and fear of aging is natural it\\u2019s universal isn\\u2019t it we all have that no one wants to get old no one wants to die but we do so we bullshit ourselves i started bullshitting myself when i got to my \\u2019s soon as i was in my \\u2019s i\\u2019d look in the mirror and i\\u2019d say well i guess i\\u2019m getting older older sounds a little better than old doesn\\u2019t it sounds like it might even last a little longer bullshit i\\u2019m getting old and it\\u2019s okay because thanks to our fear of death in this country i won\\u2019t have to die i\\u2019ll pass away or i\\u2019ll expire like a magazine subscription if it happens in the hospital they\\u2019ll call it a terminal episode the insurance company will refer to it as negative patient care outcome and if it\\u2019s the result of malpractice they\\u2019ll say it was a therapeutic misadventure i\\u2019m telling you some of this language makes me want to vomit well maybe not vomit makes me want to engage in an involuntary personal protein spillthank you all give me a little light for moe moe says helloyour email address will not be published required fields are marked nameemailwebsite \\n\\ndavid cross worst daddy in the world showcases david cross\\u2019s return to the stage blending humor with candid observations about fatherhood societal quirks and personal flawsgenderqueer comics from around the world take the stage at london\\u2019s alexandra palace in this comedy showcase hosted by the awardwinning hannah gadsbydan soder muses on wanting simplicity the perks of attractiveness quirky life anecdotes aging tech fears and finding humor in daily absurditiesfirsttime host nate bargatze talks about going to county fairs in the \\u2019 to watch his dad perform and his mom going to the wrong house to pick up his daughter\"\n        ],\n        \"semantic_type\": \"\",\n        \"description\": \"\"\n      }\n    }\n  ]\n}"
            }
          },
          "metadata": {},
          "execution_count": 47
        }
      ]
    },
    {
      "cell_type": "code",
      "source": [
        "data_clean['transcript']['1978']"
      ],
      "metadata": {
        "id": "0OygIjR661Po"
      },
      "execution_count": null,
      "outputs": []
    },
    {
      "cell_type": "code",
      "source": [
        "def clean_2(text):\n",
        "  text = re.sub('[‘’“”...]','', text)\n",
        "  text= re.sub ('\\n','',text)\n",
        "  return text\n",
        "\n",
        "second_clean = lambda x: clean_2(x)"
      ],
      "metadata": {
        "id": "8CCs6f_z7DeB"
      },
      "execution_count": 52,
      "outputs": []
    },
    {
      "cell_type": "code",
      "source": [
        "data_clean = pd.DataFrame(data_clean.transcript.apply(clean_2))\n",
        "\n",
        "data_clean"
      ],
      "metadata": {
        "id": "AuxJJLXk81J7"
      },
      "execution_count": null,
      "outputs": []
    },
    {
      "cell_type": "markdown",
      "source": [
        "Organizando os dados\n",
        "- corpo (coleção de texto)\n",
        "- document-term matrix (contagem de palavras em formato de matriz)"
      ],
      "metadata": {
        "id": "cb0P_bGg9CJJ"
      }
    },
    {
      "cell_type": "code",
      "source": [],
      "metadata": {
        "id": "aZFNmmTI9zNi"
      },
      "execution_count": null,
      "outputs": []
    }
  ]
}